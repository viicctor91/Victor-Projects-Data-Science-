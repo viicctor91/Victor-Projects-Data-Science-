{
 "cells": [
  {
   "cell_type": "markdown",
   "id": "548c813f-705c-4bfd-b4ed-d64c65bc3e24",
   "metadata": {},
   "source": [
    "# Importar dados e pacotes essenciais"
   ]
  },
  {
   "cell_type": "code",
   "execution_count": null,
   "id": "e313cc77-2b81-4ac6-a541-c489bafabd46",
   "metadata": {},
   "outputs": [],
   "source": [
    "import pandas as pd\n",
    "import numpy as np\n",
    "import matplotlib.pyplot as plt\n",
    "import seaborn as sns\n",
    "import math\n",
    "from sklearn.model_selection import train_test_split\n",
    "from pandas_profiling import ProfileReport\n",
    "%matplotlib inline\n",
    "\n",
    "pd.set_option('display.max_columns', None)\n",
    "\n"
   ]
  },
  {
   "cell_type": "code",
   "execution_count": null,
   "id": "451fdc52-de90-4bfa-bac0-f378c84f5f29",
   "metadata": {},
   "outputs": [],
   "source": [
    "df = pd.read_csv(\"data/credit_default.csv\")"
   ]
  },
  {
   "cell_type": "code",
   "execution_count": null,
   "id": "c658ec6c-79b3-4326-91ea-43fd17ae4155",
   "metadata": {},
   "outputs": [],
   "source": [
    "cols_df = pd.DataFrame(df.columns, columns=['Column Names'])\n",
    "\n",
    "display(cols_df)\n"
   ]
  },
  {
   "cell_type": "code",
   "execution_count": null,
   "id": "2a2ea779-f2cc-4a5c-adb1-78812938df11",
   "metadata": {},
   "outputs": [],
   "source": [
    "# para simplicidade vamos colocar os nomes das colunas em minusculas\n",
    "df.columns = [col.lower() for col in df.columns]"
   ]
  },
  {
   "cell_type": "code",
   "execution_count": null,
   "id": "85e059a2-5a28-41fb-8516-2603eb5a0230",
   "metadata": {},
   "outputs": [],
   "source": [
    "# ver 5 primeiras linhas do dataset\n",
    "df.head()"
   ]
  },
  {
   "cell_type": "code",
   "execution_count": null,
   "id": "c1df54eb-9715-4ec7-b7f9-14ee56160cdd",
   "metadata": {},
   "outputs": [],
   "source": [
    "# Dimensões do Dataset\n",
    "\n",
    "print(f'O dataframe possui {df.shape[0]} linhas e {df.shape[1]} colunas.')\n"
   ]
  },
  {
   "cell_type": "code",
   "execution_count": null,
   "id": "6d57efa2-e5e7-4eca-ad8f-60610d85a115",
   "metadata": {},
   "outputs": [],
   "source": [
    "\n",
    "print(df.dtypes)\n"
   ]
  },
  {
   "cell_type": "code",
   "execution_count": null,
   "id": "3bbdd0b4-8882-416d-b4c9-d5660d3ff787",
   "metadata": {},
   "outputs": [],
   "source": [
    "print(df.isna().sum().sum())\n"
   ]
  },
  {
   "cell_type": "code",
   "execution_count": null,
   "id": "047b6636-daa9-4e0e-9086-be73d3d04f9e",
   "metadata": {},
   "outputs": [],
   "source": [
    "#mudar para string\n",
    "df['term'] = df.term.astype(str)\n",
    "df['status'] = df.status.astype(str)"
   ]
  },
  {
   "cell_type": "code",
   "execution_count": null,
   "id": "fbc6afc6-2a5c-4a0a-8511-431210b83ea2",
   "metadata": {},
   "outputs": [],
   "source": [
    "for col in df.columns:\n",
    "    pct_missing = np.mean(df[col].isnull())\n",
    "    print('{} - {}%'.format(col, round(pct_missing*100)))"
   ]
  },
  {
   "cell_type": "code",
   "execution_count": null,
   "id": "54c0a4fe-fbcf-43ad-a029-2a6d1c74781e",
   "metadata": {},
   "outputs": [],
   "source": [
    "df['year'] = pd.to_datetime(df.year, format='%Y')"
   ]
  },
  {
   "cell_type": "code",
   "execution_count": null,
   "id": "a76a1e77-3da8-4429-a232-d06cb707b981",
   "metadata": {},
   "outputs": [],
   "source": [
    "# remover colunas\n",
    "df.drop(columns=[\"id\", \"year\"], inplace=True)"
   ]
  },
  {
   "cell_type": "code",
   "execution_count": null,
   "id": "b7bead6d-e774-4354-89d4-87513731f4df",
   "metadata": {},
   "outputs": [],
   "source": [
    "#separação aleatória em 70%/30%;\n",
    "#random_state servirá para garantirmos que a divisão é a mesma quando corrermos o código outra vez\n",
    "df1, df2 = train_test_split(df, test_size=0.3, random_state=0)"
   ]
  },
  {
   "cell_type": "code",
   "execution_count": null,
   "id": "8afe42a0-c37a-46c2-b766-31c100bf254d",
   "metadata": {},
   "outputs": [],
   "source": [
    "df1.shape"
   ]
  },
  {
   "cell_type": "code",
   "execution_count": null,
   "id": "f428c7f5-a59b-4ebe-a525-ecfb0f24b518",
   "metadata": {},
   "outputs": [],
   "source": [
    "df2.shape"
   ]
  },
  {
   "cell_type": "markdown",
   "id": "77dd51a1-d743-4cd9-997f-7e1250b5c07b",
   "metadata": {},
   "source": [
    "# QUESTÃO 1 "
   ]
  },
  {
   "cell_type": "markdown",
   "id": "7a03c8c7-4b49-47bf-9db6-890d34bf817a",
   "metadata": {},
   "source": [
    "### Eliminar nas duas bases as linhas com observações em falta, em pelo menos uma dessas variaveis: 3,5 ponto"
   ]
  },
  {
   "cell_type": "code",
   "execution_count": null,
   "id": "9ba66ec7-afb6-43f7-9762-78356761098c",
   "metadata": {},
   "outputs": [],
   "source": [
    "#verificando os dados em falta no df1\n",
    "for col in df1.columns:\n",
    "    pct_missing = np.mean(df1[col].isnull())\n",
    "    print('{} - {}%'.format(col, round(pct_missing*100)))"
   ]
  },
  {
   "cell_type": "code",
   "execution_count": null,
   "id": "e3c34eac-f9da-4b3a-8ae7-384c04ab2f84",
   "metadata": {},
   "outputs": [],
   "source": [
    "soma_missings_por_coluna = df1.isnull().sum()"
   ]
  },
  {
   "cell_type": "code",
   "execution_count": null,
   "id": "67ea1fa0-bb28-4bed-8526-79d023869e58",
   "metadata": {},
   "outputs": [],
   "source": [
    "#resultados absolutos\n",
    "soma_missings_por_coluna[soma_missings_por_coluna>0]"
   ]
  },
  {
   "cell_type": "code",
   "execution_count": null,
   "id": "cf4526af-3454-471a-a48e-3cd51bb00146",
   "metadata": {},
   "outputs": [],
   "source": [
    "#Eliminando no df1 linhas com dados em falta na variavel 'loan_purpose'\n",
    "df1 = df1.dropna(subset=['loan_purpose'])"
   ]
  },
  {
   "cell_type": "code",
   "execution_count": null,
   "id": "4a4993b0-03ed-4373-98a2-766863ab0ff8",
   "metadata": {},
   "outputs": [],
   "source": [
    "#Eliminando no df1 linhas com dados em falta na variavel 'age'\n",
    "df1 = df1.dropna(subset=['age'])"
   ]
  },
  {
   "cell_type": "code",
   "execution_count": null,
   "id": "49bb0af2-e3be-4c31-b673-77586ecceeb2",
   "metadata": {},
   "outputs": [],
   "source": [
    "soma_missings_por_coluna = df1.isnull().sum()"
   ]
  },
  {
   "cell_type": "code",
   "execution_count": null,
   "id": "c3f16067-6f06-4883-a92e-a30ab09ff4a9",
   "metadata": {},
   "outputs": [],
   "source": [
    "#resultados absolutos\n",
    "soma_missings_por_coluna[soma_missings_por_coluna>0]"
   ]
  },
  {
   "cell_type": "code",
   "execution_count": null,
   "id": "46f08609-5539-4c88-83a3-3f8d6a9ed164",
   "metadata": {},
   "outputs": [],
   "source": [
    "#verificando os dados em falta no df2\n",
    "for col in df2.columns:\n",
    "    pct_missing = np.mean(df2[col].isnull())\n",
    "    print('{} - {}%'.format(col, round(pct_missing*100)))"
   ]
  },
  {
   "cell_type": "code",
   "execution_count": null,
   "id": "b1424517-25dc-4659-ad07-26626a3b5a6c",
   "metadata": {},
   "outputs": [],
   "source": [
    "soma_missings_por_coluna = df2.isnull().sum()"
   ]
  },
  {
   "cell_type": "code",
   "execution_count": null,
   "id": "73169057-f23a-482e-ab0c-9391f12864d3",
   "metadata": {},
   "outputs": [],
   "source": [
    "#resultados absolutos\n",
    "soma_missings_por_coluna[soma_missings_por_coluna>0]"
   ]
  },
  {
   "cell_type": "code",
   "execution_count": null,
   "id": "ee94da63-81cd-4d27-b09d-bd00c036e800",
   "metadata": {},
   "outputs": [],
   "source": [
    "#Eliminando no df2 linhas com dados em falta na variavel 'loan_purpose'\n",
    "df2 = df2.dropna(subset=['loan_purpose'])"
   ]
  },
  {
   "cell_type": "code",
   "execution_count": null,
   "id": "7da0c29e-fa38-411e-88e0-81aa2d8c6ab2",
   "metadata": {},
   "outputs": [],
   "source": [
    "#Eliminando no df2 linhas com dados em falta na variavel 'age'\n",
    "df2 = df2.dropna(subset=['age'])"
   ]
  },
  {
   "cell_type": "code",
   "execution_count": null,
   "id": "f04cac28-e27d-43f6-a17f-4f8502d5432d",
   "metadata": {},
   "outputs": [],
   "source": [
    "#resultados absolutos\n",
    "soma_missings_por_coluna = df2.isnull().sum()\n",
    "#resultados absolutos\n",
    "soma_missings_por_coluna[soma_missings_por_coluna>0]"
   ]
  },
  {
   "cell_type": "markdown",
   "id": "b146855f-4798-410d-af22-64f3b81639df",
   "metadata": {},
   "source": [
    "# QUESTÃO 2"
   ]
  },
  {
   "cell_type": "code",
   "execution_count": null,
   "id": "26dc8013-b948-4378-8c1f-41581d75187b",
   "metadata": {},
   "outputs": [],
   "source": [
    "### Eliminar uma variavel com dados em falta nas duas bases de dados: 3,5 pontos"
   ]
  },
  {
   "cell_type": "code",
   "execution_count": null,
   "id": "2e031f62-87c9-4734-9174-8a1bf488c322",
   "metadata": {},
   "outputs": [],
   "source": [
    "cols_df1 = pd.DataFrame(df1.columns, columns=['Column Names'])\n",
    "display(cols_df1)"
   ]
  },
  {
   "cell_type": "code",
   "execution_count": null,
   "id": "7f37e2ab-c652-46c8-af1d-17b9d8074a86",
   "metadata": {},
   "outputs": [],
   "source": [
    "df1"
   ]
  },
  {
   "cell_type": "code",
   "execution_count": null,
   "id": "63cf0f71-2acb-47ad-8a2d-221ad4b522e8",
   "metadata": {},
   "outputs": [],
   "source": [
    "df1 = df1.drop(columns=['business_or_commercial'])\n",
    "\n",
    "print('DataFrame após a remoção da coluna:')\n",
    "df1"
   ]
  },
  {
   "cell_type": "code",
   "execution_count": null,
   "id": "b2e843ca-8484-488c-aed8-900c1791e4c1",
   "metadata": {},
   "outputs": [],
   "source": [
    "df2"
   ]
  },
  {
   "cell_type": "code",
   "execution_count": null,
   "id": "3fb764c7-b56e-4290-a517-1436550fccc5",
   "metadata": {},
   "outputs": [],
   "source": [
    "df2 = df2.drop(columns=['business_or_commercial'])\n",
    "\n",
    "print('DataFrame após a remoção da coluna:')\n",
    "df2"
   ]
  },
  {
   "cell_type": "markdown",
   "id": "fede1c7e-bae4-457b-abff-0b94ee1605a6",
   "metadata": {},
   "source": [
    "# QUESTÃO 3"
   ]
  },
  {
   "cell_type": "markdown",
   "id": "51e39f8a-876c-4944-99b8-41e38275dd11",
   "metadata": {},
   "source": [
    "### Preencher corretamente nas duas bases de dados os valores em falta com a media(para pelo menos uma variavel numerica):5 pontos; e valor \"missing\"(para pelo menos 1 variavel categorica): 5 pontos"
   ]
  },
  {
   "cell_type": "code",
   "execution_count": null,
   "id": "4b27ce8a-94e3-44b8-9861-1a3b52b64a6e",
   "metadata": {},
   "outputs": [],
   "source": [
    "#Verificando variaveis numericas no df1\n",
    "df1_numerica = df1._get_numeric_data()"
   ]
  },
  {
   "cell_type": "code",
   "execution_count": null,
   "id": "6ed1416b-59b3-4c1f-b9a1-8d2ba855939c",
   "metadata": {},
   "outputs": [],
   "source": [
    "df1_numerica.head(2)"
   ]
  },
  {
   "cell_type": "code",
   "execution_count": null,
   "id": "929638d9-c3d9-4a03-affa-d6a36cb3dbe7",
   "metadata": {},
   "outputs": [],
   "source": [
    "# somando a quantidade de missing por coluna no df1_numerica, que tem apenas colunas numericas\n",
    "soma_missings_por_coluna_df1_numerica = df1_numerica.isnull().sum()"
   ]
  },
  {
   "cell_type": "code",
   "execution_count": null,
   "id": "42a31489-a966-4e59-93a3-7ba43d303554",
   "metadata": {},
   "outputs": [],
   "source": [
    "# mostra a quantidade de dados que falta em cada coluna do df1_numerica, que tenha dados em falta\n",
    "soma_missings_por_coluna_df1_numerica[soma_missings_por_coluna_df1_numerica>0]"
   ]
  },
  {
   "cell_type": "code",
   "execution_count": null,
   "id": "24cae955-b54e-465f-9aa5-1cc37014481e",
   "metadata": {
    "tags": []
   },
   "outputs": [],
   "source": [
    "#Calculando a media da variavel 'Income' no df1\n",
    "media = df1['income'].median()\n",
    "media"
   ]
  },
  {
   "cell_type": "code",
   "execution_count": null,
   "id": "a6412d4b-83fd-4a3a-a862-888303a18708",
   "metadata": {},
   "outputs": [],
   "source": [
    "#preenchendo os dados em falta com a media na varivael 'income' do df1\n",
    "df1['income'] = df1['income'].fillna(media)"
   ]
  },
  {
   "cell_type": "code",
   "execution_count": null,
   "id": "002571e3-b9fb-4506-afa0-12f93a18dd59",
   "metadata": {},
   "outputs": [],
   "source": [
    "#Calculando a media da variavel 'Income' no df2\n",
    "media = df2['income'].median()\n",
    "media"
   ]
  },
  {
   "cell_type": "code",
   "execution_count": null,
   "id": "1f434a42-23e5-4644-b348-0d76eaa6d35c",
   "metadata": {},
   "outputs": [],
   "source": [
    "#preenchendo os dados em falta com a media na varivael 'income' do df2\n",
    "df2['income'] = df2['income'].fillna(media)"
   ]
  },
  {
   "cell_type": "code",
   "execution_count": null,
   "id": "e9eb0f1e-0611-49b3-a5df-9c2c22ce08a6",
   "metadata": {},
   "outputs": [],
   "source": [
    "# verificando quais sao as variaves 'catedoricas' no df1\n",
    "categorica_columns = df1.select_dtypes(include='object').columns\n",
    "df1_categorica = df1[categorica_columns]\n",
    "df1_categorica"
   ]
  },
  {
   "cell_type": "code",
   "execution_count": null,
   "id": "9604ccfb-8b18-4121-988a-b30bdfa47a7e",
   "metadata": {},
   "outputs": [],
   "source": [
    "#somando quantos dados em falta tem nas veriaveis categoricas\n",
    "soma_missings_por_coluna_df1_categorica = df1_categorica.isnull().sum()\n",
    "soma_missings_por_coluna_df1_categorica[soma_missings_por_coluna_df1_categorica>0]"
   ]
  },
  {
   "cell_type": "code",
   "execution_count": null,
   "id": "38d9a09d-d3cd-471e-92d8-e9536304e3c4",
   "metadata": {},
   "outputs": [],
   "source": [
    "#Definindo como _MISSING_ as linhas com dados em falta na variaval 'approv_in_adv' no df1\n",
    "df1['approv_in_adv']= df1['approv_in_adv'].fillna('_MISSING_')\n"
   ]
  },
  {
   "cell_type": "code",
   "execution_count": null,
   "id": "f7db168a-bac6-4a13-8581-62573ee56f2d",
   "metadata": {},
   "outputs": [],
   "source": [
    "#Definindo como _MISSING_ as linhas com dados em falta na variaval 'approv_in_adv' no df2\n",
    "df2['approv_in_adv']= df2['approv_in_adv'].fillna('_MISSING_')\n"
   ]
  },
  {
   "cell_type": "markdown",
   "id": "e94e34e2-d365-42b2-9c37-2ecf6ba9632c",
   "metadata": {},
   "source": [
    "# QUESTÃO 4"
   ]
  },
  {
   "cell_type": "markdown",
   "id": "79e2f4a5-a059-4283-b8b8-9f0fc233fa7c",
   "metadata": {},
   "source": [
    "### Escolha uma variavel com dados em falta e preencha os valores com recursos a um algoritimo de ML nas duas bases de dados: 3 pontos"
   ]
  },
  {
   "cell_type": "markdown",
   "id": "f0f63b23-d0a3-4bce-b60b-586154d81318",
   "metadata": {},
   "source": [
    "##### $\\color{red}{\\text{Instalar o Tensorflow antes de rodar a questão 4}}$\n"
   ]
  },
  {
   "cell_type": "code",
   "execution_count": null,
   "id": "2cb35cac-4f64-4311-aa08-92c23403bb93",
   "metadata": {},
   "outputs": [],
   "source": [
    "df1.to_csv('ML_df1.csv', index=False)\n",
    "df2.to_csv('ML_df2.csv', index=False)"
   ]
  },
  {
   "cell_type": "code",
   "execution_count": null,
   "id": "8d42f7ff-93c6-4377-9356-bc0a457b1697",
   "metadata": {},
   "outputs": [],
   "source": [
    "import pandas as pd\n",
    "import numpy as np\n",
    "import tensorflow as tf\n",
    "from tensorflow import keras"
   ]
  },
  {
   "cell_type": "code",
   "execution_count": null,
   "id": "3be6e744-5cef-45ab-9118-88de6bc46a5a",
   "metadata": {},
   "outputs": [],
   "source": [
    "#from tensorflow.keras.models import Sequential\n",
    "#from tensorflow.keras.layers import Dense"
   ]
  },
  {
   "cell_type": "code",
   "execution_count": null,
   "id": "43d79eef-69d5-4486-9dd0-6fc419037210",
   "metadata": {},
   "outputs": [],
   "source": [
    "\n",
    "\n",
    "# Carrega o conjunto de dados\n",
    "df1 = pd.read_csv('ML_df1.csv')\n",
    "\n",
    "# Seleciona as variáveis que possuem valores faltantes\n",
    "vars_faltantes = ['property_value']\n",
    "df_faltantes = df1[vars_faltantes].copy()\n",
    "\n",
    "# Normaliza as variáveis selecionadas\n",
    "df_norm = (df1[vars_faltantes] - df_faltantes.min()) / (df_faltantes.max() - df_faltantes.min())\n",
    "\n",
    "# Define a arquitetura da rede neural\n",
    "model = keras.Sequential()\n",
    "model.add(keras.layers.Dense(10, input_dim=len(vars_faltantes), activation='relu'))\n",
    "model.add(keras.layers.Dense(len(vars_faltantes), activation='linear'))\n",
    "\n",
    "# Compila o modelo\n",
    "model.compile(optimizer='adam', loss='mean_squared_error')\n",
    "\n",
    "# Treina o modelo\n",
    "df_norm_float = df_norm.values.astype('float32')\n",
    "model.fit(df_norm_float, df_norm_float, epochs=10, batch_size=5)\n",
    "\n",
    "# Usa o modelo para prever os valores faltantes\n",
    "df_faltantes_norm = (df_faltantes - df_faltantes.min()) / (df_faltantes.max() - df_faltantes.min())\n",
    "df_faltantes_norm_float = df_faltantes_norm.values.astype('float32')\n",
    "df_faltantes_norm_pred = model.predict(df_faltantes_norm_float)\n",
    "df_faltantes_norm_pred = pd.DataFrame(df_faltantes_norm_pred, columns=vars_faltantes, index=df_faltantes_norm.index)\n",
    "df_faltantes_pred = df_faltantes_norm_pred * (df_norm[vars_faltantes].max() - df_norm[vars_faltantes].min()) + df_norm[vars_faltantes].min()\n",
    "\n",
    "# Substitui os valores faltantes pelos valores preditos\n",
    "df1.loc[df1['property_value'].isna(), 'property_value'] = df_faltantes_pred\n"
   ]
  },
  {
   "cell_type": "code",
   "execution_count": null,
   "id": "1f3b621d-5a1d-4381-aa46-6409db3d5be0",
   "metadata": {},
   "outputs": [],
   "source": [
    "# Carrega o conjunto de dados\n",
    "df2 = pd.read_csv('ML_df2.csv')\n",
    "\n",
    "# Seleciona as variáveis que possuem valores faltantes\n",
    "vars_faltantes = ['property_value']\n",
    "df_faltantes = df2[vars_faltantes].copy()\n",
    "\n",
    "# Normaliza as variáveis selecionadas\n",
    "df_norm = (df2[vars_faltantes] - df_faltantes.min()) / (df_faltantes.max() - df_faltantes.min())\n",
    "\n",
    "# Define a arquitetura da rede neural\n",
    "model = keras.Sequential()\n",
    "model.add(keras.layers.Dense(10, input_dim=len(vars_faltantes), activation='relu'))\n",
    "model.add(keras.layers.Dense(len(vars_faltantes), activation='linear'))\n",
    "\n",
    "# Compila o modelo\n",
    "model.compile(optimizer='adam', loss='mean_squared_error')\n",
    "\n",
    "# Treina o modelo\n",
    "df_norm_float = df_norm.values.astype('float32')\n",
    "model.fit(df_norm_float, df_norm_float, epochs=10, batch_size=5)\n",
    "\n",
    "# Usa o modelo para prever os valores faltantes\n",
    "df_faltantes_norm = (df_faltantes - df_faltantes.min()) / (df_faltantes.max() - df_faltantes.min())\n",
    "df_faltantes_norm_float = df_faltantes_norm.values.astype('float32')\n",
    "df_faltantes_norm_pred = model.predict(df_faltantes_norm_float)\n",
    "df_faltantes_norm_pred = pd.DataFrame(df_faltantes_norm_pred, columns=vars_faltantes, index=df_faltantes_norm.index)\n",
    "df_faltantes_pred = df_faltantes_norm_pred * (df_norm[vars_faltantes].max() - df_norm[vars_faltantes].min()) + df_norm[vars_faltantes].min()\n",
    "\n",
    "# Substitui os valores faltantes pelos valores preditos\n",
    "df2.loc[df1['property_value'].isna(), 'property_value'] = df_faltantes_pred\n"
   ]
  },
  {
   "cell_type": "code",
   "execution_count": null,
   "id": "27a448ca-354d-431b-b99c-147092695f4c",
   "metadata": {},
   "outputs": [],
   "source": []
  }
 ],
 "metadata": {
  "kernelspec": {
   "display_name": "Python 3 (ipykernel)",
   "language": "python",
   "name": "python3"
  },
  "language_info": {
   "codemirror_mode": {
    "name": "ipython",
    "version": 3
   },
   "file_extension": ".py",
   "mimetype": "text/x-python",
   "name": "python",
   "nbconvert_exporter": "python",
   "pygments_lexer": "ipython3",
   "version": "3.9.12"
  }
 },
 "nbformat": 4,
 "nbformat_minor": 5
}
