{
  "nbformat": 4,
  "nbformat_minor": 0,
  "metadata": {
    "colab": {
      "provenance": [],
      "machine_shape": "hm"
    },
    "kernelspec": {
      "name": "python3",
      "display_name": "Python 3"
    },
    "language_info": {
      "name": "python"
    }
  },
  "cells": [
    {
      "cell_type": "markdown",
      "metadata": {
        "id": "uhrc8ZU6Nzuk"
      },
      "source": [
        "# DS Market store -- Feature Engineering"
      ]
    },
    {
      "cell_type": "code",
      "execution_count": 1,
      "metadata": {
        "id": "qY6lGs-bNjAK"
      },
      "outputs": [],
      "source": [
        "import pandas as pd\n",
        "import os\n",
        "import numpy as np\n",
        "import seaborn as sns\n",
        "import matplotlib.pyplot as plt\n",
        "from sklearn.cluster import KMeans\n",
        "import multiprocessing as mp\n",
        "import gc\n",
        "import datetime\n",
        "from sklearn.preprocessing import LabelEncoder\n",
        "import calendar\n",
        "from scipy.sparse import csr_matrix,hstack\n",
        "import tensorflow as tf\n",
        "from sklearn.linear_model import LinearRegression\n",
        "from sklearn.feature_extraction.text import CountVectorizer\n",
        "from sklearn.metrics import mean_squared_error\n",
        "from lightgbm import LGBMRegressor\n",
        "from tqdm import tqdm\n",
        "import pickle"
      ]
    },
    {
      "cell_type": "markdown",
      "metadata": {
        "id": "e2kaNnrXODed"
      },
      "source": [
        "# Montando Drive"
      ]
    },
    {
      "cell_type": "code",
      "execution_count": 2,
      "metadata": {
        "id": "6um8XEfEOCTI",
        "colab": {
          "base_uri": "https://localhost:8080/",
          "height": 0
        },
        "outputId": "d91280cd-1141-487d-bcdd-0bd1363ed0cb"
      },
      "outputs": [
        {
          "output_type": "stream",
          "name": "stdout",
          "text": [
            "Mounted at /content/drive\n"
          ]
        }
      ],
      "source": [
        "from google.colab import drive\n",
        "drive.mount('/content/drive')"
      ]
    },
    {
      "cell_type": "code",
      "execution_count": 3,
      "metadata": {
        "id": "Pva8JBjKOToQ"
      },
      "outputs": [],
      "source": [
        "#Reading up the dataframes\n",
        "df_final=pd.read_csv('/content/drive/MyDrive/ARQUIVOS TFM/NOVOS DF/df_final.csv')\n",
        "test=pd.read_csv('/content/drive/MyDrive/ARQUIVOS TFM/NOVOS DF/df_final_test.csv')\n",
        "final_test=pd.read_csv('/content/drive/MyDrive/ARQUIVOS TFM/NOVOS DF/df_final_futuro.csv')"
      ]
    },
    {
      "cell_type": "code",
      "source": [
        "# Usar expressão regular para extrair números da string\n",
        "df_final['d'] = df_final['d'].str.extract('(\\d+)').astype(int)"
      ],
      "metadata": {
        "id": "Ne9CpRrS1SEj"
      },
      "execution_count": 4,
      "outputs": []
    },
    {
      "cell_type": "code",
      "source": [
        "# Usar expressão regular para extrair números da string\n",
        "test['d'] = test['d'].str.extract('(\\d+)').astype(int)"
      ],
      "metadata": {
        "id": "UVbRSQZbzXmh"
      },
      "execution_count": 5,
      "outputs": []
    },
    {
      "cell_type": "code",
      "source": [
        "# Usar expressão regular para extrair números da string\n",
        "final_test['d'] = final_test['d'].str.extract('(\\d+)').astype(int)"
      ],
      "metadata": {
        "id": "IskKIGW11gq7"
      },
      "execution_count": 6,
      "outputs": []
    },
    {
      "cell_type": "markdown",
      "source": [
        "# Combinando 36 ultimos dias do df_final com o test para poder adicionar os atrasos de ate 36 dias."
      ],
      "metadata": {
        "id": "ZYD5AL2BJdTM"
      }
    },
    {
      "cell_type": "code",
      "source": [
        "window = 36  # Define a janela de dias que você quer considerar\n",
        "\n",
        "# Definindo os limites para pegar os últimos 36 dias do df_final\n",
        "start_d = 1886 - window  # 1886 - 36 = 1850\n",
        "end_d = 1885  # O último valor de 'd' no df_final\n",
        "\n",
        "# Pegando os registros do df_final que estão dentro desta janela\n",
        "last_36_days = df_final[df_final['d'].between(start_d, end_d)]\n",
        "\n",
        "# Concatenando os últimos 36 dias do df_final com test\n",
        "combined_data = pd.concat([last_36_days, test]).reset_index(drop=True)\n",
        "\n",
        "\n",
        "\n"
      ],
      "metadata": {
        "id": "10efIh8J2UKV"
      },
      "execution_count": 7,
      "outputs": []
    },
    {
      "cell_type": "code",
      "source": [
        "test = combined_data"
      ],
      "metadata": {
        "id": "_vG6LbwX2oUk"
      },
      "execution_count": 8,
      "outputs": []
    },
    {
      "cell_type": "markdown",
      "source": [
        "## Label Encoding df_final"
      ],
      "metadata": {
        "id": "TygqAKEkYYWT"
      }
    },
    {
      "cell_type": "code",
      "source": [
        "# Converter as colunas relevantes para categóricas\n",
        "df_final['id'] = df_final['id'].astype('category')\n",
        "df_final['item'] = df_final['item'].astype('category')\n",
        "df_final['department'] = df_final['department'].astype('category')\n",
        "df_final['category'] = df_final['category'].astype('category')\n",
        "df_final['store'] = df_final['store'].astype('category')\n",
        "df_final['store_code'] = df_final['store_code'].astype('category')\n",
        "df_final['event'] = df_final['event'].astype('category')\n",
        "df_final['region'] = df_final['region'].astype('category')\n",
        "df_final['weekday'] = df_final['weekday'].astype('category')\n",
        "\n",
        "# Armazene as categorias juntamente com seus códigos\n",
        "d_id = dict(zip(df_final['id'].cat.codes, df_final['id']))\n",
        "d_item_id = dict(zip(df_final['item'].cat.codes, df_final['item']))\n",
        "d_dept_id = dict(zip(df_final['department'].cat.codes, df_final['department']))\n",
        "d_cat_id = dict(zip(df_final['category'].cat.codes, df_final['category']))\n",
        "d_store_id = dict(zip(df_final['store'].cat.codes, df_final['store']))\n",
        "d_state_id = dict(zip(df_final['region'].cat.codes, df_final['region']))\n",
        "d_store_code_id = dict(zip(df_final['store_code'].cat.codes, df_final['store_code']))\n",
        "d_event_id = dict(zip(df_final['event'].cat.codes, df_final['event']))\n",
        "d_weekday_id = dict(zip(df_final['weekday'].cat.codes, df_final['weekday']))"
      ],
      "metadata": {
        "id": "yL0IIsmeWm9i"
      },
      "execution_count": 9,
      "outputs": []
    },
    {
      "cell_type": "code",
      "source": [
        "directory_path = \"/content/drive/MyDrive/ARQUIVOS TFM/mapeamento_lojas\"\n",
        "if not os.path.exists(directory_path):\n",
        "    os.makedirs(directory_path)"
      ],
      "metadata": {
        "id": "W568MssLbwiy"
      },
      "execution_count": 10,
      "outputs": []
    },
    {
      "cell_type": "code",
      "source": [
        "import pickle\n",
        "\n",
        "def save_mapping(mapping, filename):\n",
        "    with open(os.path.join(directory_path, filename), \"wb\") as f:\n",
        "        pickle.dump(mapping, f)\n",
        "\n",
        "save_mapping(d_id, \"d_id.pkl\")\n",
        "save_mapping(d_item_id, \"d_item_id.pkl\")\n",
        "save_mapping(d_dept_id, \"d_dept_id.pkl\")\n",
        "save_mapping(d_cat_id, \"d_cat_id.pkl\")\n",
        "save_mapping(d_store_id, \"d_store_id.pkl\")\n",
        "save_mapping(d_state_id, \"d_state_id.pkl\")\n",
        "save_mapping(d_store_code_id, \"d_store_code_id.pkl\")\n",
        "save_mapping(d_event_id, \"d_event_id.pkl\")\n",
        "save_mapping(d_weekday_id, \"d_weekday_id.pkl\")\n"
      ],
      "metadata": {
        "id": "Zvd3AZv0b-sq"
      },
      "execution_count": 11,
      "outputs": []
    },
    {
      "cell_type": "markdown",
      "source": [
        "## Convertendo dados categóricos para códigos"
      ],
      "metadata": {
        "id": "rwQpQgSIT_Jt"
      }
    },
    {
      "cell_type": "code",
      "source": [
        "# Crie listas com nomes de colunas e tipos de dados\n",
        "cols = df_final.dtypes.index.tolist()\n",
        "types = df_final.dtypes.values.tolist()\n",
        "\n",
        "# Itere pelas colunas e, se for do tipo 'category', converta em códigos\n",
        "for i, tipo in enumerate(types):\n",
        "    if tipo.name == 'category':\n",
        "        df_final[cols[i]] = df_final[cols[i]].cat.codes"
      ],
      "metadata": {
        "id": "BGWZKQcSbbjh"
      },
      "execution_count": 12,
      "outputs": []
    },
    {
      "cell_type": "markdown",
      "source": [
        "O método `cat.codes()` retorna uma série com os códigos das categorias da coluna categórica. Os códigos são números inteiros que representam a ordem das categorias.\n",
        "\n",
        "O `cat.codes()` é útil para codificar dados categóricos para uso em modelos de machine learning. Isso ocorre porque os modelos de machine learning geralmente funcionam melhor com dados numéricos.\n",
        "\n",
        "Principais pontos\n",
        "\n",
        "* O `cat.codes()` retorna uma série com os códigos das categorias.\n",
        "* Os códigos são números inteiros que representam a ordem das categorias.\n",
        "* A ordem das categorias não é significativa para o `cat.codes()`.\n",
        "* O `cat.codes()` é útil para codificar dados categóricos para uso em modelos de machine learning."
      ],
      "metadata": {
        "id": "DV1G5eFkTqyY"
      }
    },
    {
      "cell_type": "markdown",
      "source": [
        "## Introduzir atrasos"
      ],
      "metadata": {
        "id": "fG2mjNad6Z-Q"
      }
    },
    {
      "cell_type": "markdown",
      "source": [
        "Os recursos de atraso são a maneira clássica pela qual os problemas de previsão de séries temporais são transformados em problemas de aprendizagem supervisionada."
      ],
      "metadata": {
        "id": "XUPv4oXs7oeb"
      }
    },
    {
      "cell_type": "code",
      "source": [
        "# Introduzir atrasos\n",
        "lags = [1, 2, 3, 6, 12, 24, 36]\n",
        "for lag in lags:\n",
        "    df_final[f'sold_lag_{lag}'] = df_final.groupby(['id', 'item', 'department', 'category', 'store', 'store_code', 'region'], as_index=False)['sold_units'].shift(lag).astype(np.float16)\n"
      ],
      "metadata": {
        "id": "5R4a60yR6ZxC"
      },
      "execution_count": 13,
      "outputs": []
    },
    {
      "cell_type": "code",
      "source": [
        "df_final.head()"
      ],
      "metadata": {
        "colab": {
          "base_uri": "https://localhost:8080/",
          "height": 429
        },
        "id": "2ZOX9w-shbVJ",
        "outputId": "d9f9ab88-ef22-4c76-82bf-2c920b9d641c"
      },
      "execution_count": 9,
      "outputs": [
        {
          "output_type": "execute_result",
          "data": {
            "text/plain": [
              "   id  item  category  department  store  store_code  region    d  sold_units  \\\n",
              "0   3     0         0           0      2           3       1  d_1           0   \n",
              "1  13     1         0           0      2           3       1  d_1           0   \n",
              "2  23     2         0           0      2           3       1  d_1           0   \n",
              "3  33     3         0           0      2           3       1  d_1           0   \n",
              "4  43     4         0           0      2           3       1  d_1           0   \n",
              "\n",
              "         date  ...  year  month  day  sold_lag_1  sold_lag_2  sold_lag_3  \\\n",
              "0  2011-01-29  ...  2011      1   29         NaN         NaN         NaN   \n",
              "1  2011-01-29  ...  2011      1   29         NaN         NaN         NaN   \n",
              "2  2011-01-29  ...  2011      1   29         NaN         NaN         NaN   \n",
              "3  2011-01-29  ...  2011      1   29         NaN         NaN         NaN   \n",
              "4  2011-01-29  ...  2011      1   29         NaN         NaN         NaN   \n",
              "\n",
              "   sold_lag_6  sold_lag_12  sold_lag_24  sold_lag_36  \n",
              "0         NaN          NaN          NaN          NaN  \n",
              "1         NaN          NaN          NaN          NaN  \n",
              "2         NaN          NaN          NaN          NaN  \n",
              "3         NaN          NaN          NaN          NaN  \n",
              "4         NaN          NaN          NaN          NaN  \n",
              "\n",
              "[5 rows x 25 columns]"
            ],
            "text/html": [
              "\n",
              "  <div id=\"df-5b02191b-2848-4746-87af-194b2a3a2acc\" class=\"colab-df-container\">\n",
              "    <div>\n",
              "<style scoped>\n",
              "    .dataframe tbody tr th:only-of-type {\n",
              "        vertical-align: middle;\n",
              "    }\n",
              "\n",
              "    .dataframe tbody tr th {\n",
              "        vertical-align: top;\n",
              "    }\n",
              "\n",
              "    .dataframe thead th {\n",
              "        text-align: right;\n",
              "    }\n",
              "</style>\n",
              "<table border=\"1\" class=\"dataframe\">\n",
              "  <thead>\n",
              "    <tr style=\"text-align: right;\">\n",
              "      <th></th>\n",
              "      <th>id</th>\n",
              "      <th>item</th>\n",
              "      <th>category</th>\n",
              "      <th>department</th>\n",
              "      <th>store</th>\n",
              "      <th>store_code</th>\n",
              "      <th>region</th>\n",
              "      <th>d</th>\n",
              "      <th>sold_units</th>\n",
              "      <th>date</th>\n",
              "      <th>...</th>\n",
              "      <th>year</th>\n",
              "      <th>month</th>\n",
              "      <th>day</th>\n",
              "      <th>sold_lag_1</th>\n",
              "      <th>sold_lag_2</th>\n",
              "      <th>sold_lag_3</th>\n",
              "      <th>sold_lag_6</th>\n",
              "      <th>sold_lag_12</th>\n",
              "      <th>sold_lag_24</th>\n",
              "      <th>sold_lag_36</th>\n",
              "    </tr>\n",
              "  </thead>\n",
              "  <tbody>\n",
              "    <tr>\n",
              "      <th>0</th>\n",
              "      <td>3</td>\n",
              "      <td>0</td>\n",
              "      <td>0</td>\n",
              "      <td>0</td>\n",
              "      <td>2</td>\n",
              "      <td>3</td>\n",
              "      <td>1</td>\n",
              "      <td>d_1</td>\n",
              "      <td>0</td>\n",
              "      <td>2011-01-29</td>\n",
              "      <td>...</td>\n",
              "      <td>2011</td>\n",
              "      <td>1</td>\n",
              "      <td>29</td>\n",
              "      <td>NaN</td>\n",
              "      <td>NaN</td>\n",
              "      <td>NaN</td>\n",
              "      <td>NaN</td>\n",
              "      <td>NaN</td>\n",
              "      <td>NaN</td>\n",
              "      <td>NaN</td>\n",
              "    </tr>\n",
              "    <tr>\n",
              "      <th>1</th>\n",
              "      <td>13</td>\n",
              "      <td>1</td>\n",
              "      <td>0</td>\n",
              "      <td>0</td>\n",
              "      <td>2</td>\n",
              "      <td>3</td>\n",
              "      <td>1</td>\n",
              "      <td>d_1</td>\n",
              "      <td>0</td>\n",
              "      <td>2011-01-29</td>\n",
              "      <td>...</td>\n",
              "      <td>2011</td>\n",
              "      <td>1</td>\n",
              "      <td>29</td>\n",
              "      <td>NaN</td>\n",
              "      <td>NaN</td>\n",
              "      <td>NaN</td>\n",
              "      <td>NaN</td>\n",
              "      <td>NaN</td>\n",
              "      <td>NaN</td>\n",
              "      <td>NaN</td>\n",
              "    </tr>\n",
              "    <tr>\n",
              "      <th>2</th>\n",
              "      <td>23</td>\n",
              "      <td>2</td>\n",
              "      <td>0</td>\n",
              "      <td>0</td>\n",
              "      <td>2</td>\n",
              "      <td>3</td>\n",
              "      <td>1</td>\n",
              "      <td>d_1</td>\n",
              "      <td>0</td>\n",
              "      <td>2011-01-29</td>\n",
              "      <td>...</td>\n",
              "      <td>2011</td>\n",
              "      <td>1</td>\n",
              "      <td>29</td>\n",
              "      <td>NaN</td>\n",
              "      <td>NaN</td>\n",
              "      <td>NaN</td>\n",
              "      <td>NaN</td>\n",
              "      <td>NaN</td>\n",
              "      <td>NaN</td>\n",
              "      <td>NaN</td>\n",
              "    </tr>\n",
              "    <tr>\n",
              "      <th>3</th>\n",
              "      <td>33</td>\n",
              "      <td>3</td>\n",
              "      <td>0</td>\n",
              "      <td>0</td>\n",
              "      <td>2</td>\n",
              "      <td>3</td>\n",
              "      <td>1</td>\n",
              "      <td>d_1</td>\n",
              "      <td>0</td>\n",
              "      <td>2011-01-29</td>\n",
              "      <td>...</td>\n",
              "      <td>2011</td>\n",
              "      <td>1</td>\n",
              "      <td>29</td>\n",
              "      <td>NaN</td>\n",
              "      <td>NaN</td>\n",
              "      <td>NaN</td>\n",
              "      <td>NaN</td>\n",
              "      <td>NaN</td>\n",
              "      <td>NaN</td>\n",
              "      <td>NaN</td>\n",
              "    </tr>\n",
              "    <tr>\n",
              "      <th>4</th>\n",
              "      <td>43</td>\n",
              "      <td>4</td>\n",
              "      <td>0</td>\n",
              "      <td>0</td>\n",
              "      <td>2</td>\n",
              "      <td>3</td>\n",
              "      <td>1</td>\n",
              "      <td>d_1</td>\n",
              "      <td>0</td>\n",
              "      <td>2011-01-29</td>\n",
              "      <td>...</td>\n",
              "      <td>2011</td>\n",
              "      <td>1</td>\n",
              "      <td>29</td>\n",
              "      <td>NaN</td>\n",
              "      <td>NaN</td>\n",
              "      <td>NaN</td>\n",
              "      <td>NaN</td>\n",
              "      <td>NaN</td>\n",
              "      <td>NaN</td>\n",
              "      <td>NaN</td>\n",
              "    </tr>\n",
              "  </tbody>\n",
              "</table>\n",
              "<p>5 rows × 25 columns</p>\n",
              "</div>\n",
              "    <div class=\"colab-df-buttons\">\n",
              "\n",
              "  <div class=\"colab-df-container\">\n",
              "    <button class=\"colab-df-convert\" onclick=\"convertToInteractive('df-5b02191b-2848-4746-87af-194b2a3a2acc')\"\n",
              "            title=\"Convert this dataframe to an interactive table.\"\n",
              "            style=\"display:none;\">\n",
              "\n",
              "  <svg xmlns=\"http://www.w3.org/2000/svg\" height=\"24px\" viewBox=\"0 -960 960 960\">\n",
              "    <path d=\"M120-120v-720h720v720H120Zm60-500h600v-160H180v160Zm220 220h160v-160H400v160Zm0 220h160v-160H400v160ZM180-400h160v-160H180v160Zm440 0h160v-160H620v160ZM180-180h160v-160H180v160Zm440 0h160v-160H620v160Z\"/>\n",
              "  </svg>\n",
              "    </button>\n",
              "\n",
              "  <style>\n",
              "    .colab-df-container {\n",
              "      display:flex;\n",
              "      gap: 12px;\n",
              "    }\n",
              "\n",
              "    .colab-df-convert {\n",
              "      background-color: #E8F0FE;\n",
              "      border: none;\n",
              "      border-radius: 50%;\n",
              "      cursor: pointer;\n",
              "      display: none;\n",
              "      fill: #1967D2;\n",
              "      height: 32px;\n",
              "      padding: 0 0 0 0;\n",
              "      width: 32px;\n",
              "    }\n",
              "\n",
              "    .colab-df-convert:hover {\n",
              "      background-color: #E2EBFA;\n",
              "      box-shadow: 0px 1px 2px rgba(60, 64, 67, 0.3), 0px 1px 3px 1px rgba(60, 64, 67, 0.15);\n",
              "      fill: #174EA6;\n",
              "    }\n",
              "\n",
              "    .colab-df-buttons div {\n",
              "      margin-bottom: 4px;\n",
              "    }\n",
              "\n",
              "    [theme=dark] .colab-df-convert {\n",
              "      background-color: #3B4455;\n",
              "      fill: #D2E3FC;\n",
              "    }\n",
              "\n",
              "    [theme=dark] .colab-df-convert:hover {\n",
              "      background-color: #434B5C;\n",
              "      box-shadow: 0px 1px 3px 1px rgba(0, 0, 0, 0.15);\n",
              "      filter: drop-shadow(0px 1px 2px rgba(0, 0, 0, 0.3));\n",
              "      fill: #FFFFFF;\n",
              "    }\n",
              "  </style>\n",
              "\n",
              "    <script>\n",
              "      const buttonEl =\n",
              "        document.querySelector('#df-5b02191b-2848-4746-87af-194b2a3a2acc button.colab-df-convert');\n",
              "      buttonEl.style.display =\n",
              "        google.colab.kernel.accessAllowed ? 'block' : 'none';\n",
              "\n",
              "      async function convertToInteractive(key) {\n",
              "        const element = document.querySelector('#df-5b02191b-2848-4746-87af-194b2a3a2acc');\n",
              "        const dataTable =\n",
              "          await google.colab.kernel.invokeFunction('convertToInteractive',\n",
              "                                                    [key], {});\n",
              "        if (!dataTable) return;\n",
              "\n",
              "        const docLinkHtml = 'Like what you see? Visit the ' +\n",
              "          '<a target=\"_blank\" href=https://colab.research.google.com/notebooks/data_table.ipynb>data table notebook</a>'\n",
              "          + ' to learn more about interactive tables.';\n",
              "        element.innerHTML = '';\n",
              "        dataTable['output_type'] = 'display_data';\n",
              "        await google.colab.output.renderOutput(dataTable, element);\n",
              "        const docLink = document.createElement('div');\n",
              "        docLink.innerHTML = docLinkHtml;\n",
              "        element.appendChild(docLink);\n",
              "      }\n",
              "    </script>\n",
              "  </div>\n",
              "\n",
              "\n",
              "<div id=\"df-a4a7e581-3179-402c-9fd5-7c6ab097738d\">\n",
              "  <button class=\"colab-df-quickchart\" onclick=\"quickchart('df-a4a7e581-3179-402c-9fd5-7c6ab097738d')\"\n",
              "            title=\"Suggest charts.\"\n",
              "            style=\"display:none;\">\n",
              "\n",
              "<svg xmlns=\"http://www.w3.org/2000/svg\" height=\"24px\"viewBox=\"0 0 24 24\"\n",
              "     width=\"24px\">\n",
              "    <g>\n",
              "        <path d=\"M19 3H5c-1.1 0-2 .9-2 2v14c0 1.1.9 2 2 2h14c1.1 0 2-.9 2-2V5c0-1.1-.9-2-2-2zM9 17H7v-7h2v7zm4 0h-2V7h2v10zm4 0h-2v-4h2v4z\"/>\n",
              "    </g>\n",
              "</svg>\n",
              "  </button>\n",
              "\n",
              "<style>\n",
              "  .colab-df-quickchart {\n",
              "      --bg-color: #E8F0FE;\n",
              "      --fill-color: #1967D2;\n",
              "      --hover-bg-color: #E2EBFA;\n",
              "      --hover-fill-color: #174EA6;\n",
              "      --disabled-fill-color: #AAA;\n",
              "      --disabled-bg-color: #DDD;\n",
              "  }\n",
              "\n",
              "  [theme=dark] .colab-df-quickchart {\n",
              "      --bg-color: #3B4455;\n",
              "      --fill-color: #D2E3FC;\n",
              "      --hover-bg-color: #434B5C;\n",
              "      --hover-fill-color: #FFFFFF;\n",
              "      --disabled-bg-color: #3B4455;\n",
              "      --disabled-fill-color: #666;\n",
              "  }\n",
              "\n",
              "  .colab-df-quickchart {\n",
              "    background-color: var(--bg-color);\n",
              "    border: none;\n",
              "    border-radius: 50%;\n",
              "    cursor: pointer;\n",
              "    display: none;\n",
              "    fill: var(--fill-color);\n",
              "    height: 32px;\n",
              "    padding: 0;\n",
              "    width: 32px;\n",
              "  }\n",
              "\n",
              "  .colab-df-quickchart:hover {\n",
              "    background-color: var(--hover-bg-color);\n",
              "    box-shadow: 0 1px 2px rgba(60, 64, 67, 0.3), 0 1px 3px 1px rgba(60, 64, 67, 0.15);\n",
              "    fill: var(--button-hover-fill-color);\n",
              "  }\n",
              "\n",
              "  .colab-df-quickchart-complete:disabled,\n",
              "  .colab-df-quickchart-complete:disabled:hover {\n",
              "    background-color: var(--disabled-bg-color);\n",
              "    fill: var(--disabled-fill-color);\n",
              "    box-shadow: none;\n",
              "  }\n",
              "\n",
              "  .colab-df-spinner {\n",
              "    border: 2px solid var(--fill-color);\n",
              "    border-color: transparent;\n",
              "    border-bottom-color: var(--fill-color);\n",
              "    animation:\n",
              "      spin 1s steps(1) infinite;\n",
              "  }\n",
              "\n",
              "  @keyframes spin {\n",
              "    0% {\n",
              "      border-color: transparent;\n",
              "      border-bottom-color: var(--fill-color);\n",
              "      border-left-color: var(--fill-color);\n",
              "    }\n",
              "    20% {\n",
              "      border-color: transparent;\n",
              "      border-left-color: var(--fill-color);\n",
              "      border-top-color: var(--fill-color);\n",
              "    }\n",
              "    30% {\n",
              "      border-color: transparent;\n",
              "      border-left-color: var(--fill-color);\n",
              "      border-top-color: var(--fill-color);\n",
              "      border-right-color: var(--fill-color);\n",
              "    }\n",
              "    40% {\n",
              "      border-color: transparent;\n",
              "      border-right-color: var(--fill-color);\n",
              "      border-top-color: var(--fill-color);\n",
              "    }\n",
              "    60% {\n",
              "      border-color: transparent;\n",
              "      border-right-color: var(--fill-color);\n",
              "    }\n",
              "    80% {\n",
              "      border-color: transparent;\n",
              "      border-right-color: var(--fill-color);\n",
              "      border-bottom-color: var(--fill-color);\n",
              "    }\n",
              "    90% {\n",
              "      border-color: transparent;\n",
              "      border-bottom-color: var(--fill-color);\n",
              "    }\n",
              "  }\n",
              "</style>\n",
              "\n",
              "  <script>\n",
              "    async function quickchart(key) {\n",
              "      const quickchartButtonEl =\n",
              "        document.querySelector('#' + key + ' button');\n",
              "      quickchartButtonEl.disabled = true;  // To prevent multiple clicks.\n",
              "      quickchartButtonEl.classList.add('colab-df-spinner');\n",
              "      try {\n",
              "        const charts = await google.colab.kernel.invokeFunction(\n",
              "            'suggestCharts', [key], {});\n",
              "      } catch (error) {\n",
              "        console.error('Error during call to suggestCharts:', error);\n",
              "      }\n",
              "      quickchartButtonEl.classList.remove('colab-df-spinner');\n",
              "      quickchartButtonEl.classList.add('colab-df-quickchart-complete');\n",
              "    }\n",
              "    (() => {\n",
              "      let quickchartButtonEl =\n",
              "        document.querySelector('#df-a4a7e581-3179-402c-9fd5-7c6ab097738d button');\n",
              "      quickchartButtonEl.style.display =\n",
              "        google.colab.kernel.accessAllowed ? 'block' : 'none';\n",
              "    })();\n",
              "  </script>\n",
              "</div>\n",
              "    </div>\n",
              "  </div>\n"
            ]
          },
          "metadata": {},
          "execution_count": 9
        }
      ]
    },
    {
      "cell_type": "markdown",
      "source": [
        "<a id='F3'><h2>Codificação de Médias</h2></a>\n",
        "\n",
        "\n",
        "Na perspectiva matemática, a codificação de médias reflete a probabilidade da variável-alvo condicional a cada valor da característica. De uma maneira peculiar, essa técnica integra a variável-alvo em sua representação codificada. As codificações de médias foram derivadas com base em um conjunto de características lógicas que consideramos cuidadosamente, segue:\n",
        "- item\n",
        "- estado\n",
        "- loja\n",
        "- categoria\n",
        "- departamento\n",
        "- categoria e departamento\n",
        "- loja e item\n",
        "- categoria e item\n",
        "- departamento e item\n",
        "- estado e loja\n",
        "- estado, loja e categoria\n",
        "- loja, categoria e departamento\n",
        "\n",
        "\n",
        "\n"
      ],
      "metadata": {
        "id": "8f8aJg9llvA8"
      }
    },
    {
      "cell_type": "code",
      "source": [
        "# Média de vendas por item\n",
        "df_final['item_sold_avg'] = df_final.groupby('item')['sold_units'].transform('mean').astype(np.float16)\n",
        "\n",
        "# Média de vendas por estado\n",
        "df_final['state_sold_avg'] = df_final.groupby('region')['sold_units'].transform('mean').astype(np.float16)\n",
        "\n",
        "# Média de vendas por loja\n",
        "df_final['store_sold_avg'] = df_final.groupby('store_code')['sold_units'].transform('mean').astype(np.float16)\n",
        "\n",
        "# Média de vendas por categoria\n",
        "df_final['cat_sold_avg'] = df_final.groupby('category')['sold_units'].transform('mean').astype(np.float16)\n",
        "\n",
        "# Média de vendas por departamento\n",
        "df_final['dept_sold_avg'] = df_final.groupby('department')['sold_units'].transform('mean').astype(np.float16)\n",
        "\n",
        "# Média de vendas por categoria e departamento\n",
        "df_final['cat_dept_sold_avg'] = df_final.groupby(['category', 'department'])['sold_units'].transform('mean').astype(np.float16)\n",
        "\n",
        "# Média de vendas por loja e item\n",
        "df_final['store_item_sold_avg'] = df_final.groupby(['store_code', 'item'])['sold_units'].transform('mean').astype(np.float16)\n",
        "\n",
        "# Média de vendas por categoria e item\n",
        "df_final['cat_item_sold_avg'] = df_final.groupby(['category', 'item'])['sold_units'].transform('mean').astype(np.float16)\n",
        "\n",
        "# Média de vendas por departamento e item\n",
        "df_final['dept_item_sold_avg'] = df_final.groupby(['department', 'item'])['sold_units'].transform('mean').astype(np.float16)\n",
        "\n",
        "# Média de vendas por estado e loja\n",
        "df_final['state_store_sold_avg'] = df_final.groupby(['region', 'store_code'])['sold_units'].transform('mean').astype(np.float16)\n",
        "\n",
        "# Média de vendas por estado, loja e categoria\n",
        "df_final['state_store_cat_sold_avg'] = df_final.groupby(['region', 'store_code', 'category'])['sold_units'].transform('mean').astype(np.float16)\n",
        "\n",
        "# Média de vendas por loja, categoria e departamento\n",
        "df_final['store_cat_dept_sold_avg'] = df_final.groupby(['store_code', 'category', 'department'])['sold_units'].transform('mean').astype(np.float16)\n"
      ],
      "metadata": {
        "id": "c2NzCpYeh9uh"
      },
      "execution_count": 14,
      "outputs": []
    },
    {
      "cell_type": "markdown",
      "source": [
        "## Cálculo das Médias Móveis de Unidades Vendidas para Diferentes Intervalos de Tempo"
      ],
      "metadata": {
        "id": "X_3OtGmx40fS"
      }
    },
    {
      "cell_type": "code",
      "source": [
        "import numpy as np\n",
        "\n",
        "window_sizes = [7, 14, 21, 28]\n",
        "\n",
        "for window_size in window_sizes:\n",
        "    rolling_col_name = f'rolling_sold_mean_{window_size}'\n",
        "    df_final[rolling_col_name] = df_final.groupby(['id', 'item', 'category', 'department', 'store', 'store_code', 'region'])['sold_units'].transform(lambda x: x.rolling(window=window_size).mean()).astype(np.float16)\n"
      ],
      "metadata": {
        "id": "cGQLgTMik_Af"
      },
      "execution_count": 15,
      "outputs": []
    },
    {
      "cell_type": "code",
      "source": [
        "df_final.head()"
      ],
      "metadata": {
        "colab": {
          "base_uri": "https://localhost:8080/",
          "height": 429
        },
        "id": "ZLqZVQ73yF9c",
        "outputId": "0428c080-e8cb-4389-e03c-484c40644bf8"
      },
      "execution_count": 18,
      "outputs": [
        {
          "output_type": "execute_result",
          "data": {
            "text/plain": [
              "   id  item  category  department  store  store_code  region    d  sold_units  \\\n",
              "0   3     0         0           0      2           3       1  d_1           0   \n",
              "1  13     1         0           0      2           3       1  d_1           0   \n",
              "2  23     2         0           0      2           3       1  d_1           0   \n",
              "3  33     3         0           0      2           3       1  d_1           0   \n",
              "4  43     4         0           0      2           3       1  d_1           0   \n",
              "\n",
              "         date  ...  state_store_sold_avg  state_store_cat_sold_avg  \\\n",
              "0  2011-01-29  ...              1.317383                  0.809082   \n",
              "1  2011-01-29  ...              1.317383                  0.809082   \n",
              "2  2011-01-29  ...              1.317383                  0.809082   \n",
              "3  2011-01-29  ...              1.317383                  0.809082   \n",
              "4  2011-01-29  ...              1.317383                  0.809082   \n",
              "\n",
              "   store_cat_dept_sold_avg  rolling_sold_mean_7  rolling_sold_mean_14  \\\n",
              "0                 1.030273                  NaN                   NaN   \n",
              "1                 1.030273                  NaN                   NaN   \n",
              "2                 1.030273                  NaN                   NaN   \n",
              "3                 1.030273                  NaN                   NaN   \n",
              "4                 1.030273                  NaN                   NaN   \n",
              "\n",
              "   rolling_sold_mean_21  rolling_sold_mean_28  expanding_sold_units_mean  \\\n",
              "0                   NaN                   NaN                        NaN   \n",
              "1                   NaN                   NaN                        NaN   \n",
              "2                   NaN                   NaN                        NaN   \n",
              "3                   NaN                   NaN                        NaN   \n",
              "4                   NaN                   NaN                        NaN   \n",
              "\n",
              "   expanding_revenue_mean  selling_trend  \n",
              "0                     NaN      -0.303955  \n",
              "1                     NaN      -0.260498  \n",
              "2                     NaN      -0.144287  \n",
              "3                     NaN      -1.716797  \n",
              "4                     NaN      -0.960938  \n",
              "\n",
              "[5 rows x 44 columns]"
            ],
            "text/html": [
              "\n",
              "  <div id=\"df-b2e03925-891e-4df0-94b5-016f97d6fb3f\" class=\"colab-df-container\">\n",
              "    <div>\n",
              "<style scoped>\n",
              "    .dataframe tbody tr th:only-of-type {\n",
              "        vertical-align: middle;\n",
              "    }\n",
              "\n",
              "    .dataframe tbody tr th {\n",
              "        vertical-align: top;\n",
              "    }\n",
              "\n",
              "    .dataframe thead th {\n",
              "        text-align: right;\n",
              "    }\n",
              "</style>\n",
              "<table border=\"1\" class=\"dataframe\">\n",
              "  <thead>\n",
              "    <tr style=\"text-align: right;\">\n",
              "      <th></th>\n",
              "      <th>id</th>\n",
              "      <th>item</th>\n",
              "      <th>category</th>\n",
              "      <th>department</th>\n",
              "      <th>store</th>\n",
              "      <th>store_code</th>\n",
              "      <th>region</th>\n",
              "      <th>d</th>\n",
              "      <th>sold_units</th>\n",
              "      <th>date</th>\n",
              "      <th>...</th>\n",
              "      <th>state_store_sold_avg</th>\n",
              "      <th>state_store_cat_sold_avg</th>\n",
              "      <th>store_cat_dept_sold_avg</th>\n",
              "      <th>rolling_sold_mean_7</th>\n",
              "      <th>rolling_sold_mean_14</th>\n",
              "      <th>rolling_sold_mean_21</th>\n",
              "      <th>rolling_sold_mean_28</th>\n",
              "      <th>expanding_sold_units_mean</th>\n",
              "      <th>expanding_revenue_mean</th>\n",
              "      <th>selling_trend</th>\n",
              "    </tr>\n",
              "  </thead>\n",
              "  <tbody>\n",
              "    <tr>\n",
              "      <th>0</th>\n",
              "      <td>3</td>\n",
              "      <td>0</td>\n",
              "      <td>0</td>\n",
              "      <td>0</td>\n",
              "      <td>2</td>\n",
              "      <td>3</td>\n",
              "      <td>1</td>\n",
              "      <td>d_1</td>\n",
              "      <td>0</td>\n",
              "      <td>2011-01-29</td>\n",
              "      <td>...</td>\n",
              "      <td>1.317383</td>\n",
              "      <td>0.809082</td>\n",
              "      <td>1.030273</td>\n",
              "      <td>NaN</td>\n",
              "      <td>NaN</td>\n",
              "      <td>NaN</td>\n",
              "      <td>NaN</td>\n",
              "      <td>NaN</td>\n",
              "      <td>NaN</td>\n",
              "      <td>-0.303955</td>\n",
              "    </tr>\n",
              "    <tr>\n",
              "      <th>1</th>\n",
              "      <td>13</td>\n",
              "      <td>1</td>\n",
              "      <td>0</td>\n",
              "      <td>0</td>\n",
              "      <td>2</td>\n",
              "      <td>3</td>\n",
              "      <td>1</td>\n",
              "      <td>d_1</td>\n",
              "      <td>0</td>\n",
              "      <td>2011-01-29</td>\n",
              "      <td>...</td>\n",
              "      <td>1.317383</td>\n",
              "      <td>0.809082</td>\n",
              "      <td>1.030273</td>\n",
              "      <td>NaN</td>\n",
              "      <td>NaN</td>\n",
              "      <td>NaN</td>\n",
              "      <td>NaN</td>\n",
              "      <td>NaN</td>\n",
              "      <td>NaN</td>\n",
              "      <td>-0.260498</td>\n",
              "    </tr>\n",
              "    <tr>\n",
              "      <th>2</th>\n",
              "      <td>23</td>\n",
              "      <td>2</td>\n",
              "      <td>0</td>\n",
              "      <td>0</td>\n",
              "      <td>2</td>\n",
              "      <td>3</td>\n",
              "      <td>1</td>\n",
              "      <td>d_1</td>\n",
              "      <td>0</td>\n",
              "      <td>2011-01-29</td>\n",
              "      <td>...</td>\n",
              "      <td>1.317383</td>\n",
              "      <td>0.809082</td>\n",
              "      <td>1.030273</td>\n",
              "      <td>NaN</td>\n",
              "      <td>NaN</td>\n",
              "      <td>NaN</td>\n",
              "      <td>NaN</td>\n",
              "      <td>NaN</td>\n",
              "      <td>NaN</td>\n",
              "      <td>-0.144287</td>\n",
              "    </tr>\n",
              "    <tr>\n",
              "      <th>3</th>\n",
              "      <td>33</td>\n",
              "      <td>3</td>\n",
              "      <td>0</td>\n",
              "      <td>0</td>\n",
              "      <td>2</td>\n",
              "      <td>3</td>\n",
              "      <td>1</td>\n",
              "      <td>d_1</td>\n",
              "      <td>0</td>\n",
              "      <td>2011-01-29</td>\n",
              "      <td>...</td>\n",
              "      <td>1.317383</td>\n",
              "      <td>0.809082</td>\n",
              "      <td>1.030273</td>\n",
              "      <td>NaN</td>\n",
              "      <td>NaN</td>\n",
              "      <td>NaN</td>\n",
              "      <td>NaN</td>\n",
              "      <td>NaN</td>\n",
              "      <td>NaN</td>\n",
              "      <td>-1.716797</td>\n",
              "    </tr>\n",
              "    <tr>\n",
              "      <th>4</th>\n",
              "      <td>43</td>\n",
              "      <td>4</td>\n",
              "      <td>0</td>\n",
              "      <td>0</td>\n",
              "      <td>2</td>\n",
              "      <td>3</td>\n",
              "      <td>1</td>\n",
              "      <td>d_1</td>\n",
              "      <td>0</td>\n",
              "      <td>2011-01-29</td>\n",
              "      <td>...</td>\n",
              "      <td>1.317383</td>\n",
              "      <td>0.809082</td>\n",
              "      <td>1.030273</td>\n",
              "      <td>NaN</td>\n",
              "      <td>NaN</td>\n",
              "      <td>NaN</td>\n",
              "      <td>NaN</td>\n",
              "      <td>NaN</td>\n",
              "      <td>NaN</td>\n",
              "      <td>-0.960938</td>\n",
              "    </tr>\n",
              "  </tbody>\n",
              "</table>\n",
              "<p>5 rows × 44 columns</p>\n",
              "</div>\n",
              "    <div class=\"colab-df-buttons\">\n",
              "\n",
              "  <div class=\"colab-df-container\">\n",
              "    <button class=\"colab-df-convert\" onclick=\"convertToInteractive('df-b2e03925-891e-4df0-94b5-016f97d6fb3f')\"\n",
              "            title=\"Convert this dataframe to an interactive table.\"\n",
              "            style=\"display:none;\">\n",
              "\n",
              "  <svg xmlns=\"http://www.w3.org/2000/svg\" height=\"24px\" viewBox=\"0 -960 960 960\">\n",
              "    <path d=\"M120-120v-720h720v720H120Zm60-500h600v-160H180v160Zm220 220h160v-160H400v160Zm0 220h160v-160H400v160ZM180-400h160v-160H180v160Zm440 0h160v-160H620v160ZM180-180h160v-160H180v160Zm440 0h160v-160H620v160Z\"/>\n",
              "  </svg>\n",
              "    </button>\n",
              "\n",
              "  <style>\n",
              "    .colab-df-container {\n",
              "      display:flex;\n",
              "      gap: 12px;\n",
              "    }\n",
              "\n",
              "    .colab-df-convert {\n",
              "      background-color: #E8F0FE;\n",
              "      border: none;\n",
              "      border-radius: 50%;\n",
              "      cursor: pointer;\n",
              "      display: none;\n",
              "      fill: #1967D2;\n",
              "      height: 32px;\n",
              "      padding: 0 0 0 0;\n",
              "      width: 32px;\n",
              "    }\n",
              "\n",
              "    .colab-df-convert:hover {\n",
              "      background-color: #E2EBFA;\n",
              "      box-shadow: 0px 1px 2px rgba(60, 64, 67, 0.3), 0px 1px 3px 1px rgba(60, 64, 67, 0.15);\n",
              "      fill: #174EA6;\n",
              "    }\n",
              "\n",
              "    .colab-df-buttons div {\n",
              "      margin-bottom: 4px;\n",
              "    }\n",
              "\n",
              "    [theme=dark] .colab-df-convert {\n",
              "      background-color: #3B4455;\n",
              "      fill: #D2E3FC;\n",
              "    }\n",
              "\n",
              "    [theme=dark] .colab-df-convert:hover {\n",
              "      background-color: #434B5C;\n",
              "      box-shadow: 0px 1px 3px 1px rgba(0, 0, 0, 0.15);\n",
              "      filter: drop-shadow(0px 1px 2px rgba(0, 0, 0, 0.3));\n",
              "      fill: #FFFFFF;\n",
              "    }\n",
              "  </style>\n",
              "\n",
              "    <script>\n",
              "      const buttonEl =\n",
              "        document.querySelector('#df-b2e03925-891e-4df0-94b5-016f97d6fb3f button.colab-df-convert');\n",
              "      buttonEl.style.display =\n",
              "        google.colab.kernel.accessAllowed ? 'block' : 'none';\n",
              "\n",
              "      async function convertToInteractive(key) {\n",
              "        const element = document.querySelector('#df-b2e03925-891e-4df0-94b5-016f97d6fb3f');\n",
              "        const dataTable =\n",
              "          await google.colab.kernel.invokeFunction('convertToInteractive',\n",
              "                                                    [key], {});\n",
              "        if (!dataTable) return;\n",
              "\n",
              "        const docLinkHtml = 'Like what you see? Visit the ' +\n",
              "          '<a target=\"_blank\" href=https://colab.research.google.com/notebooks/data_table.ipynb>data table notebook</a>'\n",
              "          + ' to learn more about interactive tables.';\n",
              "        element.innerHTML = '';\n",
              "        dataTable['output_type'] = 'display_data';\n",
              "        await google.colab.output.renderOutput(dataTable, element);\n",
              "        const docLink = document.createElement('div');\n",
              "        docLink.innerHTML = docLinkHtml;\n",
              "        element.appendChild(docLink);\n",
              "      }\n",
              "    </script>\n",
              "  </div>\n",
              "\n",
              "\n",
              "<div id=\"df-b87a761b-3575-47df-876b-6748a3f9301f\">\n",
              "  <button class=\"colab-df-quickchart\" onclick=\"quickchart('df-b87a761b-3575-47df-876b-6748a3f9301f')\"\n",
              "            title=\"Suggest charts.\"\n",
              "            style=\"display:none;\">\n",
              "\n",
              "<svg xmlns=\"http://www.w3.org/2000/svg\" height=\"24px\"viewBox=\"0 0 24 24\"\n",
              "     width=\"24px\">\n",
              "    <g>\n",
              "        <path d=\"M19 3H5c-1.1 0-2 .9-2 2v14c0 1.1.9 2 2 2h14c1.1 0 2-.9 2-2V5c0-1.1-.9-2-2-2zM9 17H7v-7h2v7zm4 0h-2V7h2v10zm4 0h-2v-4h2v4z\"/>\n",
              "    </g>\n",
              "</svg>\n",
              "  </button>\n",
              "\n",
              "<style>\n",
              "  .colab-df-quickchart {\n",
              "      --bg-color: #E8F0FE;\n",
              "      --fill-color: #1967D2;\n",
              "      --hover-bg-color: #E2EBFA;\n",
              "      --hover-fill-color: #174EA6;\n",
              "      --disabled-fill-color: #AAA;\n",
              "      --disabled-bg-color: #DDD;\n",
              "  }\n",
              "\n",
              "  [theme=dark] .colab-df-quickchart {\n",
              "      --bg-color: #3B4455;\n",
              "      --fill-color: #D2E3FC;\n",
              "      --hover-bg-color: #434B5C;\n",
              "      --hover-fill-color: #FFFFFF;\n",
              "      --disabled-bg-color: #3B4455;\n",
              "      --disabled-fill-color: #666;\n",
              "  }\n",
              "\n",
              "  .colab-df-quickchart {\n",
              "    background-color: var(--bg-color);\n",
              "    border: none;\n",
              "    border-radius: 50%;\n",
              "    cursor: pointer;\n",
              "    display: none;\n",
              "    fill: var(--fill-color);\n",
              "    height: 32px;\n",
              "    padding: 0;\n",
              "    width: 32px;\n",
              "  }\n",
              "\n",
              "  .colab-df-quickchart:hover {\n",
              "    background-color: var(--hover-bg-color);\n",
              "    box-shadow: 0 1px 2px rgba(60, 64, 67, 0.3), 0 1px 3px 1px rgba(60, 64, 67, 0.15);\n",
              "    fill: var(--button-hover-fill-color);\n",
              "  }\n",
              "\n",
              "  .colab-df-quickchart-complete:disabled,\n",
              "  .colab-df-quickchart-complete:disabled:hover {\n",
              "    background-color: var(--disabled-bg-color);\n",
              "    fill: var(--disabled-fill-color);\n",
              "    box-shadow: none;\n",
              "  }\n",
              "\n",
              "  .colab-df-spinner {\n",
              "    border: 2px solid var(--fill-color);\n",
              "    border-color: transparent;\n",
              "    border-bottom-color: var(--fill-color);\n",
              "    animation:\n",
              "      spin 1s steps(1) infinite;\n",
              "  }\n",
              "\n",
              "  @keyframes spin {\n",
              "    0% {\n",
              "      border-color: transparent;\n",
              "      border-bottom-color: var(--fill-color);\n",
              "      border-left-color: var(--fill-color);\n",
              "    }\n",
              "    20% {\n",
              "      border-color: transparent;\n",
              "      border-left-color: var(--fill-color);\n",
              "      border-top-color: var(--fill-color);\n",
              "    }\n",
              "    30% {\n",
              "      border-color: transparent;\n",
              "      border-left-color: var(--fill-color);\n",
              "      border-top-color: var(--fill-color);\n",
              "      border-right-color: var(--fill-color);\n",
              "    }\n",
              "    40% {\n",
              "      border-color: transparent;\n",
              "      border-right-color: var(--fill-color);\n",
              "      border-top-color: var(--fill-color);\n",
              "    }\n",
              "    60% {\n",
              "      border-color: transparent;\n",
              "      border-right-color: var(--fill-color);\n",
              "    }\n",
              "    80% {\n",
              "      border-color: transparent;\n",
              "      border-right-color: var(--fill-color);\n",
              "      border-bottom-color: var(--fill-color);\n",
              "    }\n",
              "    90% {\n",
              "      border-color: transparent;\n",
              "      border-bottom-color: var(--fill-color);\n",
              "    }\n",
              "  }\n",
              "</style>\n",
              "\n",
              "  <script>\n",
              "    async function quickchart(key) {\n",
              "      const quickchartButtonEl =\n",
              "        document.querySelector('#' + key + ' button');\n",
              "      quickchartButtonEl.disabled = true;  // To prevent multiple clicks.\n",
              "      quickchartButtonEl.classList.add('colab-df-spinner');\n",
              "      try {\n",
              "        const charts = await google.colab.kernel.invokeFunction(\n",
              "            'suggestCharts', [key], {});\n",
              "      } catch (error) {\n",
              "        console.error('Error during call to suggestCharts:', error);\n",
              "      }\n",
              "      quickchartButtonEl.classList.remove('colab-df-spinner');\n",
              "      quickchartButtonEl.classList.add('colab-df-quickchart-complete');\n",
              "    }\n",
              "    (() => {\n",
              "      let quickchartButtonEl =\n",
              "        document.querySelector('#df-b87a761b-3575-47df-876b-6748a3f9301f button');\n",
              "      quickchartButtonEl.style.display =\n",
              "        google.colab.kernel.accessAllowed ? 'block' : 'none';\n",
              "    })();\n",
              "  </script>\n",
              "</div>\n",
              "    </div>\n",
              "  </div>\n"
            ]
          },
          "metadata": {},
          "execution_count": 18
        }
      ]
    },
    {
      "cell_type": "markdown",
      "source": [
        "## Previsão de vendas usando médias móveis"
      ],
      "metadata": {
        "id": "jQRQRgL4ZVff"
      }
    },
    {
      "cell_type": "code",
      "source": [
        "# Definindo as colunas para calcular as médias móveis exponenciais acumuladas\n",
        "columns_to_calculate = ['sold_units', 'revenue']\n",
        "\n",
        "# Calculando as médias móveis exponenciais acumuladas\n",
        "for column in columns_to_calculate:\n",
        "    df_final[f'expanding_{column}_mean'] = df_final.groupby(['id', 'item', 'department', 'category', 'store', 'store_code', 'region'])[column].transform(lambda x: x.expanding(2).mean()).astype(np.float16)"
      ],
      "metadata": {
        "id": "lDgCpsaz4b55"
      },
      "execution_count": 16,
      "outputs": []
    },
    {
      "cell_type": "markdown",
      "source": [
        "## Tendência"
      ],
      "metadata": {
        "id": "3ivanuPD8aS4"
      }
    },
    {
      "cell_type": "markdown",
      "source": [
        "\n",
        "Vou criar uma característica chamada \"tendência de vendas\", que terá um valor positivo se as vendas diárias de itens forem maiores do que a média de todo o período (d_1 - d_1913), caso contrário, será negativo. É possível adicionar mais características de tendência, mas vou adicionar apenas essa para mantê-la simples.\n",
        "\n",
        "Em outras palavras, a \"tendência de vendas\" mostrará se as vendas diárias estão acima ou abaixo da média global do período total. Se estiverem acima, terá um valor positivo; se estiverem abaixo, terá um valor negativo. Isso pode ajudar a identificar se as vendas estão tendendo a ser melhores ou piores do que a média histórica."
      ],
      "metadata": {
        "id": "pbSEsSxw9YGL"
      }
    },
    {
      "cell_type": "code",
      "source": [
        "# Calcula a média diária de vendas para cada combinação de id, item_id, dept_id, cat_id, store_id, state_id e d\n",
        "df_final['daily_avg_sold'] = df_final.groupby(['id', 'item', 'department', 'category', 'store', 'store_code', 'region', 'd'])['sold_units'].transform('mean').astype(np.float16)\n",
        "\n",
        "# Calcula a média de vendas geral para cada combinação de id, item_id, dept_id, cat_id, store_id e state_id\n",
        "df_final['avg_sold'] = df_final.groupby(['id', 'item', 'department', 'category', 'store', 'store_code', 'region'])['sold_units'].transform('mean').astype(np.float16)\n",
        "\n",
        "# Calcula a tendência de vendas subtraindo a média diária de vendas da média de vendas geral\n",
        "df_final['selling_trend'] = (df_final['daily_avg_sold'] - df_final['avg_sold']).astype(np.float16)\n",
        "\n",
        "# Remove as colunas daily_avg_sold e avg_sold\n",
        "df_final.drop(['daily_avg_sold', 'avg_sold'], axis=1, inplace=True)\n"
      ],
      "metadata": {
        "id": "c5JjvJv53qG2"
      },
      "execution_count": 17,
      "outputs": []
    },
    {
      "cell_type": "markdown",
      "source": [
        "# Salvando novo df_final encoded"
      ],
      "metadata": {
        "id": "UrS6HplC9qrx"
      }
    },
    {
      "cell_type": "markdown",
      "source": [
        "Agora, como todos os novos recursos foram criados, vamos salvar os dados para que possam ser treinados separadamente. Além disso, os atrasos introduzem muitos valores nulos, então removerei os dados dos primeiros 36 dias, pois introduzi atrasos de até 36 dias."
      ],
      "metadata": {
        "id": "_PjupZIq92Js"
      }
    },
    {
      "cell_type": "code",
      "source": [
        "#verificando valores em falta\n",
        "soma_missings_por_coluna = df_final.isnull().sum()\n",
        "soma_missings_por_coluna"
      ],
      "metadata": {
        "colab": {
          "base_uri": "https://localhost:8080/",
          "height": 0
        },
        "id": "oQ1WwYdq8dxy",
        "outputId": "21399b24-c5c3-4b52-9be9-98ec5ba3e61f"
      },
      "execution_count": 14,
      "outputs": [
        {
          "output_type": "execute_result",
          "data": {
            "text/plain": [
              "id                                 0\n",
              "item                               0\n",
              "category                           0\n",
              "department                         0\n",
              "store                              0\n",
              "store_code                         0\n",
              "region                             0\n",
              "d                                  0\n",
              "sold_units                         0\n",
              "date                               0\n",
              "weekday                            0\n",
              "weekday_int                        0\n",
              "event                              0\n",
              "price                              0\n",
              "revenue                            0\n",
              "year                               0\n",
              "month                              0\n",
              "day                                0\n",
              "sold_lag_1                     30490\n",
              "sold_lag_2                     60980\n",
              "sold_lag_3                     91470\n",
              "sold_lag_6                    182940\n",
              "sold_lag_12                   365880\n",
              "sold_lag_24                   731760\n",
              "sold_lag_36                  1097640\n",
              "item_sold_avg                      0\n",
              "state_sold_avg                     0\n",
              "store_sold_avg                     0\n",
              "cat_sold_avg                       0\n",
              "dept_sold_avg                      0\n",
              "cat_dept_sold_avg                  0\n",
              "store_item_sold_avg                0\n",
              "cat_item_sold_avg                  0\n",
              "dept_item_sold_avg                 0\n",
              "state_store_sold_avg               0\n",
              "state_store_cat_sold_avg           0\n",
              "store_cat_dept_sold_avg            0\n",
              "rolling_sold_mean_7           182940\n",
              "rolling_sold_mean_14          396370\n",
              "rolling_sold_mean_21          609800\n",
              "rolling_sold_mean_28          823230\n",
              "expanding_sold_units_mean      30490\n",
              "expanding_revenue_mean         30490\n",
              "selling_trend                      0\n",
              "dtype: int64"
            ]
          },
          "metadata": {},
          "execution_count": 14
        }
      ]
    },
    {
      "cell_type": "code",
      "source": [
        "# Now, filter the DataFrame\n",
        "df_final = df_final[df_final['d']>=37]\n"
      ],
      "metadata": {
        "id": "qCPa7nFF-ECv"
      },
      "execution_count": 19,
      "outputs": []
    },
    {
      "cell_type": "code",
      "source": [
        "#verificando valores em falta\n",
        "soma_missings_por_coluna = df_final.isnull().sum()\n",
        "soma_missings_por_coluna"
      ],
      "metadata": {
        "colab": {
          "base_uri": "https://localhost:8080/",
          "height": 0
        },
        "id": "osnwrXe1-ieB",
        "outputId": "d041e9d4-442e-4a01-f01d-12feb075dc5a"
      },
      "execution_count": 16,
      "outputs": [
        {
          "output_type": "execute_result",
          "data": {
            "text/plain": [
              "id                           0\n",
              "item                         0\n",
              "category                     0\n",
              "department                   0\n",
              "store                        0\n",
              "store_code                   0\n",
              "region                       0\n",
              "d                            0\n",
              "sold_units                   0\n",
              "date                         0\n",
              "weekday                      0\n",
              "weekday_int                  0\n",
              "event                        0\n",
              "price                        0\n",
              "revenue                      0\n",
              "year                         0\n",
              "month                        0\n",
              "day                          0\n",
              "sold_lag_1                   0\n",
              "sold_lag_2                   0\n",
              "sold_lag_3                   0\n",
              "sold_lag_6                   0\n",
              "sold_lag_12                  0\n",
              "sold_lag_24                  0\n",
              "sold_lag_36                  0\n",
              "item_sold_avg                0\n",
              "state_sold_avg               0\n",
              "store_sold_avg               0\n",
              "cat_sold_avg                 0\n",
              "dept_sold_avg                0\n",
              "cat_dept_sold_avg            0\n",
              "store_item_sold_avg          0\n",
              "cat_item_sold_avg            0\n",
              "dept_item_sold_avg           0\n",
              "state_store_sold_avg         0\n",
              "state_store_cat_sold_avg     0\n",
              "store_cat_dept_sold_avg      0\n",
              "rolling_sold_mean_7          0\n",
              "rolling_sold_mean_14         0\n",
              "rolling_sold_mean_21         0\n",
              "rolling_sold_mean_28         0\n",
              "expanding_sold_units_mean    0\n",
              "expanding_revenue_mean       0\n",
              "selling_trend                0\n",
              "dtype: int64"
            ]
          },
          "metadata": {},
          "execution_count": 16
        }
      ]
    },
    {
      "cell_type": "code",
      "source": [
        "# Salva o DataFrame como um arquivo CSV no Google Drive\n",
        "#df_final.to_csv(\"/content/drive/MyDrive/ARQUIVOS TFM/NOVOS DF/df_final_enc.csv\", index=False)"
      ],
      "metadata": {
        "id": "eU7PM0eVP43q"
      },
      "execution_count": null,
      "outputs": []
    },
    {
      "cell_type": "markdown",
      "source": [
        "## Label Encoding test"
      ],
      "metadata": {
        "id": "AF_kMNCXJphT"
      }
    },
    {
      "cell_type": "code",
      "source": [
        "#test=pd.read_csv('/content/drive/MyDrive/ARQUIVOS TFM/NOVOS DF/df_final_test.csv')"
      ],
      "metadata": {
        "id": "acVtmgC4AHDR"
      },
      "execution_count": 57,
      "outputs": []
    },
    {
      "cell_type": "code",
      "source": [
        "# Converter as colunas relevantes para categóricas\n",
        "test['id'] = test['id'].astype('category')\n",
        "test['item'] = test['item'].astype('category')\n",
        "test['department'] = test['department'].astype('category')\n",
        "test['category'] = test['category'].astype('category')\n",
        "test['store'] = test['store'].astype('category')\n",
        "test['store_code'] = test['store_code'].astype('category')\n",
        "test['event'] = test['event'].astype('category')\n",
        "test['region'] = test['region'].astype('category')\n",
        "test['weekday'] = test['weekday'].astype('category')\n",
        "\n",
        "# Armazene as categorias juntamente com seus códigos\n",
        "d_id = dict(zip(test['id'].cat.codes, test['id']))\n",
        "d_item_id = dict(zip(test['item'].cat.codes, test['item']))\n",
        "d_dept_id = dict(zip(test['department'].cat.codes, test['department']))\n",
        "d_cat_id = dict(zip(test['category'].cat.codes, test['category']))\n",
        "d_store_id = dict(zip(test['store'].cat.codes, test['store']))\n",
        "d_state_id = dict(zip(test['region'].cat.codes, test['region']))\n",
        "d_store_code_id = dict(zip(test['store_code'].cat.codes, test['store_code']))\n",
        "d_event_id = dict(zip(test['event'].cat.codes, test['event']))\n",
        "d_weekday_id = dict(zip(test['weekday'].cat.codes, test['weekday']))"
      ],
      "metadata": {
        "id": "SJU89t3k3tyr"
      },
      "execution_count": 20,
      "outputs": []
    },
    {
      "cell_type": "code",
      "source": [
        "directory_path = \"/content/drive/MyDrive/ARQUIVOS TFM/mapeamento_lojas/mapeamento_lojas_test\"\n",
        "if not os.path.exists(directory_path):\n",
        "    os.makedirs(directory_path)"
      ],
      "metadata": {
        "id": "n1AQuFxu3tys"
      },
      "execution_count": 21,
      "outputs": []
    },
    {
      "cell_type": "code",
      "source": [
        "import pickle\n",
        "\n",
        "def save_mapping(mapping, filename):\n",
        "    with open(os.path.join(directory_path, filename), \"wb\") as f:\n",
        "        pickle.dump(mapping, f)\n",
        "\n",
        "save_mapping(d_id, \"d_id.pkl\")\n",
        "save_mapping(d_item_id, \"d_item_id.pkl\")\n",
        "save_mapping(d_dept_id, \"d_dept_id.pkl\")\n",
        "save_mapping(d_cat_id, \"d_cat_id.pkl\")\n",
        "save_mapping(d_store_id, \"d_store_id.pkl\")\n",
        "save_mapping(d_state_id, \"d_state_id.pkl\")\n",
        "save_mapping(d_store_code_id, \"d_store_code_id.pkl\")\n",
        "save_mapping(d_event_id, \"d_event_id.pkl\")\n",
        "save_mapping(d_weekday_id, \"d_weekday_id.pkl\")\n"
      ],
      "metadata": {
        "id": "-EhbjlYs3tys"
      },
      "execution_count": 22,
      "outputs": []
    },
    {
      "cell_type": "code",
      "source": [
        "# Crie listas com nomes de colunas e tipos de dados\n",
        "cols = test.dtypes.index.tolist()\n",
        "types = test.dtypes.values.tolist()\n",
        "\n",
        "# Itere pelas colunas e, se for do tipo 'category', converta em códigos\n",
        "for i, tipo in enumerate(types):\n",
        "    if tipo.name == 'category':\n",
        "        test[cols[i]] = test[cols[i]].cat.codes"
      ],
      "metadata": {
        "id": "I3J68B-J3tyt"
      },
      "execution_count": 23,
      "outputs": []
    },
    {
      "cell_type": "code",
      "source": [
        "# Introduzir atrasos\n",
        "lags = [1, 2, 3, 6, 12, 24, 36]\n",
        "for lag in lags:\n",
        "    test[f'sold_lag_{lag}'] = test.groupby(['id', 'item', 'department', 'category', 'store', 'store_code', 'region'], as_index=False)['sold_units'].shift(lag).astype(np.float16)\n"
      ],
      "metadata": {
        "id": "8C25KpMI3tyu"
      },
      "execution_count": 24,
      "outputs": []
    },
    {
      "cell_type": "code",
      "source": [
        "# Média de vendas por item\n",
        "test['item_sold_avg'] = test.groupby('item')['sold_units'].transform('mean').astype(np.float16)\n",
        "\n",
        "# Média de vendas por estado\n",
        "test['state_sold_avg'] = test.groupby('region')['sold_units'].transform('mean').astype(np.float16)\n",
        "\n",
        "# Média de vendas por loja\n",
        "test['store_sold_avg'] = test.groupby('store_code')['sold_units'].transform('mean').astype(np.float16)\n",
        "\n",
        "# Média de vendas por categoria\n",
        "test['cat_sold_avg'] = test.groupby('category')['sold_units'].transform('mean').astype(np.float16)\n",
        "\n",
        "# Média de vendas por departamento\n",
        "test['dept_sold_avg'] = test.groupby('department')['sold_units'].transform('mean').astype(np.float16)\n",
        "\n",
        "# Média de vendas por categoria e departamento\n",
        "test['cat_dept_sold_avg'] = test.groupby(['category', 'department'])['sold_units'].transform('mean').astype(np.float16)\n",
        "\n",
        "# Média de vendas por loja e item\n",
        "test['store_item_sold_avg'] = test.groupby(['store_code', 'item'])['sold_units'].transform('mean').astype(np.float16)\n",
        "\n",
        "# Média de vendas por categoria e item\n",
        "test['cat_item_sold_avg'] = test.groupby(['category', 'item'])['sold_units'].transform('mean').astype(np.float16)\n",
        "\n",
        "# Média de vendas por departamento e item\n",
        "test['dept_item_sold_avg'] = test.groupby(['department', 'item'])['sold_units'].transform('mean').astype(np.float16)\n",
        "\n",
        "# Média de vendas por estado e loja\n",
        "test['state_store_sold_avg'] = test.groupby(['region', 'store_code'])['sold_units'].transform('mean').astype(np.float16)\n",
        "\n",
        "# Média de vendas por estado, loja e categoria\n",
        "test['state_store_cat_sold_avg'] = test.groupby(['region', 'store_code', 'category'])['sold_units'].transform('mean').astype(np.float16)\n",
        "\n",
        "# Média de vendas por loja, categoria e departamento\n",
        "test['store_cat_dept_sold_avg'] = test.groupby(['store_code', 'category', 'department'])['sold_units'].transform('mean').astype(np.float16)\n"
      ],
      "metadata": {
        "id": "MuycmOmW3tyu"
      },
      "execution_count": 25,
      "outputs": []
    },
    {
      "cell_type": "code",
      "source": [
        "import numpy as np\n",
        "\n",
        "window_sizes = [7, 14, 21, 28]\n",
        "\n",
        "for window_size in window_sizes:\n",
        "    rolling_col_name = f'rolling_sold_mean_{window_size}'\n",
        "    test[rolling_col_name] = test.groupby(['id', 'item', 'category', 'department', 'store', 'store_code', 'region'])['sold_units'].transform(lambda x: x.rolling(window=window_size).mean()).astype(np.float16)\n"
      ],
      "metadata": {
        "id": "uzd2uPuo3tyu"
      },
      "execution_count": 26,
      "outputs": []
    },
    {
      "cell_type": "code",
      "source": [
        "# Definindo as colunas para calcular as médias móveis exponenciais acumuladas\n",
        "columns_to_calculate = ['sold_units', 'revenue']\n",
        "\n",
        "# Calculando as médias móveis exponenciais acumuladas\n",
        "for column in columns_to_calculate:\n",
        "    test[f'expanding_{column}_mean'] = test.groupby(['id', 'item', 'department', 'category', 'store', 'store_code', 'region'])[column].transform(lambda x: x.expanding(2).mean()).astype(np.float16)"
      ],
      "metadata": {
        "id": "RAdsqOSx3tyv"
      },
      "execution_count": 27,
      "outputs": []
    },
    {
      "cell_type": "code",
      "source": [
        "# Calcula a média diária de vendas para cada combinação de id, item_id, dept_id, cat_id, store_id, state_id e d\n",
        "test['daily_avg_sold'] = test.groupby(['id', 'item', 'department', 'category', 'store', 'store_code', 'region', 'd'])['sold_units'].transform('mean').astype(np.float16)\n",
        "\n",
        "# Calcula a média de vendas geral para cada combinação de id, item_id, dept_id, cat_id, store_id e state_id\n",
        "test['avg_sold'] = test.groupby(['id', 'item', 'department', 'category', 'store', 'store_code', 'region'])['sold_units'].transform('mean').astype(np.float16)\n",
        "\n",
        "# Calcula a tendência de vendas subtraindo a média diária de vendas da média de vendas geral\n",
        "test['selling_trend'] = (test['daily_avg_sold'] - test['avg_sold']).astype(np.float16)\n",
        "\n",
        "# Remove as colunas daily_avg_sold e avg_sold\n",
        "test.drop(['daily_avg_sold', 'avg_sold'], axis=1, inplace=True)\n"
      ],
      "metadata": {
        "id": "-mVHWOy23tyv"
      },
      "execution_count": 28,
      "outputs": []
    },
    {
      "cell_type": "code",
      "source": [
        "#verificando valores em falta\n",
        "soma_missings_por_coluna = test.isnull().sum()\n",
        "soma_missings_por_coluna"
      ],
      "metadata": {
        "colab": {
          "base_uri": "https://localhost:8080/",
          "height": 0
        },
        "id": "v14EmEDB-K9T",
        "outputId": "2529fca5-ae7d-4e4a-805b-0120754fa320"
      },
      "execution_count": 31,
      "outputs": [
        {
          "output_type": "execute_result",
          "data": {
            "text/plain": [
              "id                           0\n",
              "item                         0\n",
              "category                     0\n",
              "department                   0\n",
              "store                        0\n",
              "store_code                   0\n",
              "region                       0\n",
              "d                            0\n",
              "sold_units                   0\n",
              "date                         0\n",
              "weekday                      0\n",
              "weekday_int                  0\n",
              "event                        0\n",
              "price                        0\n",
              "revenue                      0\n",
              "year                         0\n",
              "month                        0\n",
              "day                          0\n",
              "sold_lag_1                   0\n",
              "sold_lag_2                   0\n",
              "sold_lag_3                   0\n",
              "sold_lag_6                   0\n",
              "sold_lag_12                  0\n",
              "sold_lag_24                  0\n",
              "sold_lag_36                  0\n",
              "item_sold_avg                0\n",
              "state_sold_avg               0\n",
              "store_sold_avg               0\n",
              "cat_sold_avg                 0\n",
              "dept_sold_avg                0\n",
              "cat_dept_sold_avg            0\n",
              "store_item_sold_avg          0\n",
              "cat_item_sold_avg            0\n",
              "dept_item_sold_avg           0\n",
              "state_store_sold_avg         0\n",
              "state_store_cat_sold_avg     0\n",
              "store_cat_dept_sold_avg      0\n",
              "rolling_sold_mean_7          0\n",
              "rolling_sold_mean_14         0\n",
              "rolling_sold_mean_21         0\n",
              "rolling_sold_mean_28         0\n",
              "expanding_sold_units_mean    0\n",
              "expanding_revenue_mean       0\n",
              "selling_trend                0\n",
              "dtype: int64"
            ]
          },
          "metadata": {},
          "execution_count": 31
        }
      ]
    },
    {
      "cell_type": "code",
      "source": [
        "# Filtrando o dataframe test de volta para os 28 ultimos dias\n",
        "test = test[test['d'] >= 1886]\n"
      ],
      "metadata": {
        "id": "_q01vi-G-LDa"
      },
      "execution_count": 30,
      "outputs": []
    },
    {
      "cell_type": "code",
      "source": [
        "# Salva o DataFrame como um arquivo CSV no Google Drive\n",
        "#test.to_csv(\"/content/drive/MyDrive/ARQUIVOS TFM/NOVOS DF/test_enc.csv\", index=False)"
      ],
      "metadata": {
        "id": "XffBU-sZ-LXD"
      },
      "execution_count": 40,
      "outputs": []
    },
    {
      "cell_type": "code",
      "source": [
        "# Salva o DataFrame como um arquivo CSV no Google Drive\n",
        "df_final.to_csv(\"/content/drive/MyDrive/ARQUIVOS TFM/NOVOS DF/df_final_enc.csv\", index=False)"
      ],
      "metadata": {
        "id": "3t1dyDxOXOIY"
      },
      "execution_count": null,
      "outputs": []
    }
  ]
}