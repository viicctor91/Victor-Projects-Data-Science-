{
 "cells": [
  {
   "cell_type": "markdown",
   "metadata": {},
   "source": [
    "# Segumentação de produtos Baseado em Recência e Frequência"
   ]
  },
  {
   "cell_type": "markdown",
   "metadata": {},
   "source": [
    "Recência, quão recente é a última venda, e Frequência quantas vendas em um determinado período.\n",
    "\n",
    "Limitação em relação à sazonalidazde dos produtos precisa ser observada."
   ]
  },
  {
   "cell_type": "code",
   "execution_count": 149,
   "metadata": {},
   "outputs": [],
   "source": [
    "import numpy as np\n",
    "import pandas as pd\n",
    "import matplotlib.pyplot as plt\n",
    "import seaborn as sns\n",
    "import plotly.express as px\n",
    "from sklearn.preprocessing import LabelEncoder\n",
    "from sklearn.cluster import KMeans\n",
    "from sklearn.preprocessing import MinMaxScaler\n",
    "\n",
    "import warnings\n",
    "warnings.filterwarnings('ignore') #Desabilitar Warnings "
   ]
  },
  {
   "cell_type": "markdown",
   "metadata": {},
   "source": [
    "Recuperando dados"
   ]
  },
  {
   "cell_type": "code",
   "execution_count": 150,
   "metadata": {},
   "outputs": [],
   "source": [
    "df =pd.read_csv('item_sales.csv')"
   ]
  },
  {
   "cell_type": "code",
   "execution_count": 151,
   "metadata": {},
   "outputs": [
    {
     "data": {
      "text/plain": [
       "array(['Greenwich_Village', 'Harlem', 'Tribeca', 'Brooklyn', 'South_End',\n",
       "       'Roxbury', 'Back_Bay', 'Midtown_Village', 'Yorktown',\n",
       "       'Queen_Village'], dtype=object)"
      ]
     },
     "execution_count": 151,
     "metadata": {},
     "output_type": "execute_result"
    }
   ],
   "source": [
    "df['store'].unique()"
   ]
  },
  {
   "cell_type": "markdown",
   "metadata": {},
   "source": [
    "Funções:"
   ]
  },
  {
   "cell_type": "code",
   "execution_count": 232,
   "metadata": {},
   "outputs": [],
   "source": [
    "def feature_creation(df):\n",
    "    global data\n",
    "\n",
    "    # Remove as colunas indesejadas do DataFrame\n",
    "    df = df.drop('id', axis=1)\n",
    "    df = df.drop('category', axis=1)\n",
    "    df = df.drop('department', axis=1)\n",
    "    df = df.drop('store', axis=1)\n",
    "    df = df.drop('region', axis=1)\n",
    "    df = df.drop('store_code', axis=1)\n",
    "\n",
    "    # Cria uma nova coluna chamada 'frequencia' que é a soma das colunas restantes\n",
    "    df['frequencia'] = df.iloc[:, 1:].sum(axis=1)\n",
    "\n",
    "    # Encontra os índices das colunas 'd_1' e 'd_1913'\n",
    "    d1 = df.columns.get_loc('d_1')\n",
    "    d1913 = df.columns.get_loc('d_1913')\n",
    "\n",
    "    recencia = []\n",
    "\n",
    "    # Calcula a recência para cada linha\n",
    "    for i in range(len(df)):\n",
    "        found_non_zero = False\n",
    "        for j in reversed(range(d1, d1913 + 1)):\n",
    "            if df.iloc[i, j] != 0:\n",
    "                recencia.append(d1913 - j + 1)\n",
    "                found_non_zero = True\n",
    "                break\n",
    "        if not found_non_zero:\n",
    "            recencia.append(0)\n",
    "\n",
    "    # Cria uma nova coluna chamada 'recencia' com os valores calculados\n",
    "    df['recencia'] = recencia\n",
    "\n",
    "    # \n",
    "    drop_c = len(df.T) - 2\n",
    "    df.drop(df.iloc[:, 1:drop_c], inplace=True, axis=1)\n",
    "\n",
    "    # Exibe as primeiras linhas do DataFrame\n",
    "    print(df.head())\n",
    "\n",
    "    # Retorneao DataFrame\n",
    "    data = pd.DataFrame(df)\n",
    "\n",
    "def log_tranform_feat(df):\n",
    "    global data\n",
    "\n",
    "    # Aplique a transformação logarítmica nas colunas 'frequencia' e 'recencia' para melhoria da eficência do modelo\n",
    "    df['frequencia_log'] = df['frequencia'].apply(lambda x: np.log1p(x))\n",
    "    df['recencia_log'] = df['recencia'].apply(lambda x: np.log1p(x))\n",
    "\n",
    "    data = pd.DataFrame(df)\n",
    "\n",
    "def enc_categoricas(df):\n",
    "    # Use o LabelEncoder para codificar a coluna 'item'\n",
    "    label_encoder = LabelEncoder()\n",
    "    df['item_enc'] = label_encoder.fit_transform(df['item'])\n",
    "    return df\n",
    "\n",
    "def ebow(dfc):\n",
    "    sum_of_sqr_dist = {}\n",
    "\n",
    "    # Execute o método Elbow para determinar o número ideal de clusters (K)\n",
    "    for k in range(1, 10):\n",
    "        km = KMeans(n_clusters=k, init='k-means++', max_iter=1000)\n",
    "        km = km.fit(dfc)\n",
    "        sum_of_sqr_dist[k] = km.inertia_\n",
    "\n",
    "    # Plote o gráfico do método Elbow\n",
    "    sns.pointplot(x=list(sum_of_sqr_dist.keys()), y=list(sum_of_sqr_dist.values()))\n",
    "    plt.xlabel(\"Número de Clusters (K)\")\n",
    "    plt.ylabel(\"Soma das Distâncias Quadradas\")\n",
    "    plt.title(\"Método Elbow para Determinar o K Ótimo\")\n",
    "    plt.show()\n",
    "\n",
    "def model(dfc):\n",
    "    # Crie e ajuste o modelo K-Means com o número desejado de clusters\n",
    "    Model = KMeans(n_clusters=5, init='k-means++', max_iter=10000)\n",
    "    Model.fit(dfc)\n",
    "    return Model"
   ]
  },
  {
   "cell_type": "code",
   "execution_count": 153,
   "metadata": {},
   "outputs": [],
   "source": [
    "def select_store(st_name): # Selecionar loja\n",
    "    global data\n",
    "    data = pd.DataFrame(df[df.store == st_name])"
   ]
  },
  {
   "cell_type": "markdown",
   "metadata": {},
   "source": [
    "### Análise da Loja Tribeca"
   ]
  },
  {
   "cell_type": "code",
   "execution_count": 154,
   "metadata": {},
   "outputs": [],
   "source": [
    "store_name = 'Tribeca'\n",
    "select_store(store_name)"
   ]
  },
  {
   "cell_type": "code",
   "execution_count": 155,
   "metadata": {},
   "outputs": [
    {
     "name": "stdout",
     "output_type": "stream",
     "text": [
      "                  item  frequencia  recencia\n",
      "6098  ACCESORIES_1_001         758         1\n",
      "6099  ACCESORIES_1_002         452         2\n",
      "6100  ACCESORIES_1_003         137         1\n",
      "6101  ACCESORIES_1_004       10442         1\n",
      "6102  ACCESORIES_1_005        2663         1\n"
     ]
    }
   ],
   "source": [
    "feature_creation(data)"
   ]
  },
  {
   "cell_type": "code",
   "execution_count": 97,
   "metadata": {},
   "outputs": [],
   "source": [
    "log_tranform_feat(data)"
   ]
  },
  {
   "cell_type": "code",
   "execution_count": 98,
   "metadata": {},
   "outputs": [
    {
     "data": {
      "text/html": [
       "<div>\n",
       "<style scoped>\n",
       "    .dataframe tbody tr th:only-of-type {\n",
       "        vertical-align: middle;\n",
       "    }\n",
       "\n",
       "    .dataframe tbody tr th {\n",
       "        vertical-align: top;\n",
       "    }\n",
       "\n",
       "    .dataframe thead th {\n",
       "        text-align: right;\n",
       "    }\n",
       "</style>\n",
       "<table border=\"1\" class=\"dataframe\">\n",
       "  <thead>\n",
       "    <tr style=\"text-align: right;\">\n",
       "      <th></th>\n",
       "      <th>item</th>\n",
       "      <th>frequencia</th>\n",
       "      <th>recencia</th>\n",
       "      <th>frequencia_log</th>\n",
       "      <th>recencia_log</th>\n",
       "    </tr>\n",
       "  </thead>\n",
       "  <tbody>\n",
       "    <tr>\n",
       "      <th>6098</th>\n",
       "      <td>ACCESORIES_1_001</td>\n",
       "      <td>758</td>\n",
       "      <td>1</td>\n",
       "      <td>6.632002</td>\n",
       "      <td>0.693147</td>\n",
       "    </tr>\n",
       "    <tr>\n",
       "      <th>6099</th>\n",
       "      <td>ACCESORIES_1_002</td>\n",
       "      <td>452</td>\n",
       "      <td>2</td>\n",
       "      <td>6.115892</td>\n",
       "      <td>1.098612</td>\n",
       "    </tr>\n",
       "    <tr>\n",
       "      <th>6100</th>\n",
       "      <td>ACCESORIES_1_003</td>\n",
       "      <td>137</td>\n",
       "      <td>1</td>\n",
       "      <td>4.927254</td>\n",
       "      <td>0.693147</td>\n",
       "    </tr>\n",
       "    <tr>\n",
       "      <th>6101</th>\n",
       "      <td>ACCESORIES_1_004</td>\n",
       "      <td>10442</td>\n",
       "      <td>1</td>\n",
       "      <td>9.253687</td>\n",
       "      <td>0.693147</td>\n",
       "    </tr>\n",
       "    <tr>\n",
       "      <th>6102</th>\n",
       "      <td>ACCESORIES_1_005</td>\n",
       "      <td>2663</td>\n",
       "      <td>1</td>\n",
       "      <td>7.887584</td>\n",
       "      <td>0.693147</td>\n",
       "    </tr>\n",
       "  </tbody>\n",
       "</table>\n",
       "</div>"
      ],
      "text/plain": [
       "                  item  frequencia  recencia  frequencia_log  recencia_log\n",
       "6098  ACCESORIES_1_001         758         1        6.632002      0.693147\n",
       "6099  ACCESORIES_1_002         452         2        6.115892      1.098612\n",
       "6100  ACCESORIES_1_003         137         1        4.927254      0.693147\n",
       "6101  ACCESORIES_1_004       10442         1        9.253687      0.693147\n",
       "6102  ACCESORIES_1_005        2663         1        7.887584      0.693147"
      ]
     },
     "execution_count": 98,
     "metadata": {},
     "output_type": "execute_result"
    }
   ],
   "source": [
    "data.head()"
   ]
  },
  {
   "cell_type": "code",
   "execution_count": 99,
   "metadata": {},
   "outputs": [],
   "source": [
    "scaler = MinMaxScaler() # Escalonador MinMax para melhorar a eficencia do modelo"
   ]
  },
  {
   "cell_type": "code",
   "execution_count": 100,
   "metadata": {},
   "outputs": [],
   "source": [
    "df_normalized = scaler.fit_transform(data[['frequencia_log','recencia_log']])"
   ]
  },
  {
   "cell_type": "code",
   "execution_count": 101,
   "metadata": {},
   "outputs": [
    {
     "data": {
      "text/plain": [
       "array([[0.42200407, 0.        ],\n",
       "       [0.37056456, 0.06615464],\n",
       "       [0.25209558, 0.        ],\n",
       "       ...,\n",
       "       [0.51522774, 0.        ],\n",
       "       [0.47100784, 0.        ],\n",
       "       [0.54368112, 0.        ]])"
      ]
     },
     "execution_count": 101,
     "metadata": {},
     "output_type": "execute_result"
    }
   ],
   "source": [
    "df_normalized"
   ]
  },
  {
   "cell_type": "code",
   "execution_count": 102,
   "metadata": {},
   "outputs": [],
   "source": [
    "data_tribeca = enc_categoricas(data) #Codifica veriavel categórica"
   ]
  },
  {
   "cell_type": "code",
   "execution_count": 103,
   "metadata": {},
   "outputs": [
    {
     "data": {
      "text/html": [
       "<div>\n",
       "<style scoped>\n",
       "    .dataframe tbody tr th:only-of-type {\n",
       "        vertical-align: middle;\n",
       "    }\n",
       "\n",
       "    .dataframe tbody tr th {\n",
       "        vertical-align: top;\n",
       "    }\n",
       "\n",
       "    .dataframe thead th {\n",
       "        text-align: right;\n",
       "    }\n",
       "</style>\n",
       "<table border=\"1\" class=\"dataframe\">\n",
       "  <thead>\n",
       "    <tr style=\"text-align: right;\">\n",
       "      <th></th>\n",
       "      <th>item</th>\n",
       "      <th>frequencia</th>\n",
       "      <th>recencia</th>\n",
       "      <th>frequencia_log</th>\n",
       "      <th>recencia_log</th>\n",
       "      <th>item_enc</th>\n",
       "    </tr>\n",
       "  </thead>\n",
       "  <tbody>\n",
       "    <tr>\n",
       "      <th>6098</th>\n",
       "      <td>ACCESORIES_1_001</td>\n",
       "      <td>758</td>\n",
       "      <td>1</td>\n",
       "      <td>6.632002</td>\n",
       "      <td>0.693147</td>\n",
       "      <td>0</td>\n",
       "    </tr>\n",
       "    <tr>\n",
       "      <th>6099</th>\n",
       "      <td>ACCESORIES_1_002</td>\n",
       "      <td>452</td>\n",
       "      <td>2</td>\n",
       "      <td>6.115892</td>\n",
       "      <td>1.098612</td>\n",
       "      <td>1</td>\n",
       "    </tr>\n",
       "    <tr>\n",
       "      <th>6100</th>\n",
       "      <td>ACCESORIES_1_003</td>\n",
       "      <td>137</td>\n",
       "      <td>1</td>\n",
       "      <td>4.927254</td>\n",
       "      <td>0.693147</td>\n",
       "      <td>2</td>\n",
       "    </tr>\n",
       "    <tr>\n",
       "      <th>6101</th>\n",
       "      <td>ACCESORIES_1_004</td>\n",
       "      <td>10442</td>\n",
       "      <td>1</td>\n",
       "      <td>9.253687</td>\n",
       "      <td>0.693147</td>\n",
       "      <td>3</td>\n",
       "    </tr>\n",
       "    <tr>\n",
       "      <th>6102</th>\n",
       "      <td>ACCESORIES_1_005</td>\n",
       "      <td>2663</td>\n",
       "      <td>1</td>\n",
       "      <td>7.887584</td>\n",
       "      <td>0.693147</td>\n",
       "      <td>4</td>\n",
       "    </tr>\n",
       "    <tr>\n",
       "      <th>...</th>\n",
       "      <td>...</td>\n",
       "      <td>...</td>\n",
       "      <td>...</td>\n",
       "      <td>...</td>\n",
       "      <td>...</td>\n",
       "      <td>...</td>\n",
       "    </tr>\n",
       "    <tr>\n",
       "      <th>9142</th>\n",
       "      <td>SUPERMARKET_3_823</td>\n",
       "      <td>4805</td>\n",
       "      <td>2</td>\n",
       "      <td>8.477620</td>\n",
       "      <td>1.098612</td>\n",
       "      <td>3044</td>\n",
       "    </tr>\n",
       "    <tr>\n",
       "      <th>9143</th>\n",
       "      <td>SUPERMARKET_3_824</td>\n",
       "      <td>1563</td>\n",
       "      <td>1</td>\n",
       "      <td>7.355002</td>\n",
       "      <td>0.693147</td>\n",
       "      <td>3045</td>\n",
       "    </tr>\n",
       "    <tr>\n",
       "      <th>9144</th>\n",
       "      <td>SUPERMARKET_3_825</td>\n",
       "      <td>1933</td>\n",
       "      <td>1</td>\n",
       "      <td>7.567346</td>\n",
       "      <td>0.693147</td>\n",
       "      <td>3046</td>\n",
       "    </tr>\n",
       "    <tr>\n",
       "      <th>9145</th>\n",
       "      <td>SUPERMARKET_3_826</td>\n",
       "      <td>1240</td>\n",
       "      <td>1</td>\n",
       "      <td>7.123673</td>\n",
       "      <td>0.693147</td>\n",
       "      <td>3047</td>\n",
       "    </tr>\n",
       "    <tr>\n",
       "      <th>9146</th>\n",
       "      <td>SUPERMARKET_3_827</td>\n",
       "      <td>2572</td>\n",
       "      <td>1</td>\n",
       "      <td>7.852828</td>\n",
       "      <td>0.693147</td>\n",
       "      <td>3048</td>\n",
       "    </tr>\n",
       "  </tbody>\n",
       "</table>\n",
       "<p>3049 rows × 6 columns</p>\n",
       "</div>"
      ],
      "text/plain": [
       "                   item  frequencia  recencia  frequencia_log  recencia_log  \\\n",
       "6098   ACCESORIES_1_001         758         1        6.632002      0.693147   \n",
       "6099   ACCESORIES_1_002         452         2        6.115892      1.098612   \n",
       "6100   ACCESORIES_1_003         137         1        4.927254      0.693147   \n",
       "6101   ACCESORIES_1_004       10442         1        9.253687      0.693147   \n",
       "6102   ACCESORIES_1_005        2663         1        7.887584      0.693147   \n",
       "...                 ...         ...       ...             ...           ...   \n",
       "9142  SUPERMARKET_3_823        4805         2        8.477620      1.098612   \n",
       "9143  SUPERMARKET_3_824        1563         1        7.355002      0.693147   \n",
       "9144  SUPERMARKET_3_825        1933         1        7.567346      0.693147   \n",
       "9145  SUPERMARKET_3_826        1240         1        7.123673      0.693147   \n",
       "9146  SUPERMARKET_3_827        2572         1        7.852828      0.693147   \n",
       "\n",
       "      item_enc  \n",
       "6098         0  \n",
       "6099         1  \n",
       "6100         2  \n",
       "6101         3  \n",
       "6102         4  \n",
       "...        ...  \n",
       "9142      3044  \n",
       "9143      3045  \n",
       "9144      3046  \n",
       "9145      3047  \n",
       "9146      3048  \n",
       "\n",
       "[3049 rows x 6 columns]"
      ]
     },
     "execution_count": 103,
     "metadata": {},
     "output_type": "execute_result"
    }
   ],
   "source": [
    "data_tribeca "
   ]
  },
  {
   "cell_type": "code",
   "execution_count": 104,
   "metadata": {},
   "outputs": [],
   "source": [
    "data_tribeca_model = data_tribeca.drop(['item'], axis=1)\n"
   ]
  },
  {
   "cell_type": "code",
   "execution_count": 105,
   "metadata": {},
   "outputs": [
    {
     "data": {
      "image/png": "[encoded data removed]",
      "text/plain": [
       "<Figure size 640x480 with 1 Axes>"
      ]
     },
     "metadata": {},
     "output_type": "display_data"
    }
   ],
   "source": [
    "ebow(data_tribeca_model)"
   ]
  },
  {
   "cell_type": "code",
   "execution_count": 106,
   "metadata": {},
   "outputs": [],
   "source": [
    "Model = model(df_normalized)"
   ]
  },
  {
   "cell_type": "code",
   "execution_count": 107,
   "metadata": {},
   "outputs": [],
   "source": [
    "data_tribeca['cluster'] = Model.labels_"
   ]
  },
  {
   "cell_type": "code",
   "execution_count": 108,
   "metadata": {},
   "outputs": [
    {
     "data": {
      "text/plain": [
       "cluster\n",
       "0    1197\n",
       "1     649\n",
       "3     610\n",
       "4     429\n",
       "2     164\n",
       "Name: count, dtype: int64"
      ]
     },
     "execution_count": 108,
     "metadata": {},
     "output_type": "execute_result"
    }
   ],
   "source": [
    "data_tribeca['cluster'].value_counts()"
   ]
  },
  {
   "cell_type": "code",
   "execution_count": 109,
   "metadata": {},
   "outputs": [
    {
     "data": {
      "text/plain": [
       "<Axes: xlabel='cluster', ylabel='count'>"
      ]
     },
     "execution_count": 109,
     "metadata": {},
     "output_type": "execute_result"
    },
    {
     "data": {
      "image/png": "[encoded data removed]",
      "text/plain": [
       "<Figure size 640x480 with 1 Axes>"
      ]
     },
     "metadata": {},
     "output_type": "display_data"
    }
   ],
   "source": [
    "order= data_tribeca['cluster'].value_counts().index\n",
    "sns.countplot(x=data_tribeca['cluster'],order=order)"
   ]
  },
  {
   "cell_type": "markdown",
   "metadata": {},
   "source": [
    "## Interpretação dos Clusters\n",
    "\n",
    "Dentro dos clusters, podem aparecer alguns produtos sazonais. Para identificá-los, é necessária uma avaliação mais detalhada."
   ]
  },
  {
   "cell_type": "code",
   "execution_count": 110,
   "metadata": {},
   "outputs": [
    {
     "data": {
      "text/html": [
       "<div>\n",
       "<style scoped>\n",
       "    .dataframe tbody tr th:only-of-type {\n",
       "        vertical-align: middle;\n",
       "    }\n",
       "\n",
       "    .dataframe tbody tr th {\n",
       "        vertical-align: top;\n",
       "    }\n",
       "\n",
       "    .dataframe thead th {\n",
       "        text-align: right;\n",
       "    }\n",
       "</style>\n",
       "<table border=\"1\" class=\"dataframe\">\n",
       "  <thead>\n",
       "    <tr style=\"text-align: right;\">\n",
       "      <th></th>\n",
       "      <th>item</th>\n",
       "      <th>frequencia</th>\n",
       "      <th>recencia</th>\n",
       "      <th>frequencia_log</th>\n",
       "      <th>recencia_log</th>\n",
       "      <th>item_enc</th>\n",
       "      <th>cluster</th>\n",
       "    </tr>\n",
       "  </thead>\n",
       "  <tbody>\n",
       "    <tr>\n",
       "      <th>8412</th>\n",
       "      <td>SUPERMARKET_3_090</td>\n",
       "      <td>250502</td>\n",
       "      <td>1</td>\n",
       "      <td>12.431226</td>\n",
       "      <td>0.693147</td>\n",
       "      <td>2314</td>\n",
       "      <td>3</td>\n",
       "    </tr>\n",
       "    <tr>\n",
       "      <th>8908</th>\n",
       "      <td>SUPERMARKET_3_586</td>\n",
       "      <td>134386</td>\n",
       "      <td>1</td>\n",
       "      <td>11.808479</td>\n",
       "      <td>0.693147</td>\n",
       "      <td>2810</td>\n",
       "      <td>3</td>\n",
       "    </tr>\n",
       "    <tr>\n",
       "      <th>8442</th>\n",
       "      <td>SUPERMARKET_3_120</td>\n",
       "      <td>88795</td>\n",
       "      <td>1</td>\n",
       "      <td>11.394097</td>\n",
       "      <td>0.693147</td>\n",
       "      <td>2344</td>\n",
       "      <td>3</td>\n",
       "    </tr>\n",
       "    <tr>\n",
       "      <th>8574</th>\n",
       "      <td>SUPERMARKET_3_252</td>\n",
       "      <td>81456</td>\n",
       "      <td>1</td>\n",
       "      <td>11.307831</td>\n",
       "      <td>0.693147</td>\n",
       "      <td>2476</td>\n",
       "      <td>3</td>\n",
       "    </tr>\n",
       "    <tr>\n",
       "      <th>8863</th>\n",
       "      <td>SUPERMARKET_3_541</td>\n",
       "      <td>80491</td>\n",
       "      <td>26</td>\n",
       "      <td>11.295913</td>\n",
       "      <td>3.295837</td>\n",
       "      <td>2765</td>\n",
       "      <td>3</td>\n",
       "    </tr>\n",
       "    <tr>\n",
       "      <th>8957</th>\n",
       "      <td>SUPERMARKET_3_635</td>\n",
       "      <td>80222</td>\n",
       "      <td>25</td>\n",
       "      <td>11.292566</td>\n",
       "      <td>3.258097</td>\n",
       "      <td>2859</td>\n",
       "      <td>3</td>\n",
       "    </tr>\n",
       "    <tr>\n",
       "      <th>9127</th>\n",
       "      <td>SUPERMARKET_3_808</td>\n",
       "      <td>72591</td>\n",
       "      <td>9</td>\n",
       "      <td>11.192610</td>\n",
       "      <td>2.302585</td>\n",
       "      <td>3029</td>\n",
       "      <td>3</td>\n",
       "    </tr>\n",
       "    <tr>\n",
       "      <th>8909</th>\n",
       "      <td>SUPERMARKET_3_587</td>\n",
       "      <td>70324</td>\n",
       "      <td>1</td>\n",
       "      <td>11.160883</td>\n",
       "      <td>0.693147</td>\n",
       "      <td>2811</td>\n",
       "      <td>3</td>\n",
       "    </tr>\n",
       "    <tr>\n",
       "      <th>8877</th>\n",
       "      <td>SUPERMARKET_3_555</td>\n",
       "      <td>59092</td>\n",
       "      <td>1</td>\n",
       "      <td>10.986868</td>\n",
       "      <td>0.693147</td>\n",
       "      <td>2779</td>\n",
       "      <td>3</td>\n",
       "    </tr>\n",
       "    <tr>\n",
       "      <th>9003</th>\n",
       "      <td>SUPERMARKET_3_681</td>\n",
       "      <td>55537</td>\n",
       "      <td>1</td>\n",
       "      <td>10.924823</td>\n",
       "      <td>0.693147</td>\n",
       "      <td>2905</td>\n",
       "      <td>3</td>\n",
       "    </tr>\n",
       "  </tbody>\n",
       "</table>\n",
       "</div>"
      ],
      "text/plain": [
       "                   item  frequencia  recencia  frequencia_log  recencia_log  \\\n",
       "8412  SUPERMARKET_3_090      250502         1       12.431226      0.693147   \n",
       "8908  SUPERMARKET_3_586      134386         1       11.808479      0.693147   \n",
       "8442  SUPERMARKET_3_120       88795         1       11.394097      0.693147   \n",
       "8574  SUPERMARKET_3_252       81456         1       11.307831      0.693147   \n",
       "8863  SUPERMARKET_3_541       80491        26       11.295913      3.295837   \n",
       "8957  SUPERMARKET_3_635       80222        25       11.292566      3.258097   \n",
       "9127  SUPERMARKET_3_808       72591         9       11.192610      2.302585   \n",
       "8909  SUPERMARKET_3_587       70324         1       11.160883      0.693147   \n",
       "8877  SUPERMARKET_3_555       59092         1       10.986868      0.693147   \n",
       "9003  SUPERMARKET_3_681       55537         1       10.924823      0.693147   \n",
       "\n",
       "      item_enc  cluster  \n",
       "8412      2314        3  \n",
       "8908      2810        3  \n",
       "8442      2344        3  \n",
       "8574      2476        3  \n",
       "8863      2765        3  \n",
       "8957      2859        3  \n",
       "9127      3029        3  \n",
       "8909      2811        3  \n",
       "8877      2779        3  \n",
       "9003      2905        3  "
      ]
     },
     "execution_count": 110,
     "metadata": {},
     "output_type": "execute_result"
    }
   ],
   "source": [
    "data.sort_values(by='frequencia',ascending=False).head(10) #Top 10 frequências"
   ]
  },
  {
   "cell_type": "code",
   "execution_count": 111,
   "metadata": {},
   "outputs": [
    {
     "data": {
      "text/html": [
       "<div>\n",
       "<style scoped>\n",
       "    .dataframe tbody tr th:only-of-type {\n",
       "        vertical-align: middle;\n",
       "    }\n",
       "\n",
       "    .dataframe tbody tr th {\n",
       "        vertical-align: top;\n",
       "    }\n",
       "\n",
       "    .dataframe thead th {\n",
       "        text-align: right;\n",
       "    }\n",
       "</style>\n",
       "<table border=\"1\" class=\"dataframe\">\n",
       "  <thead>\n",
       "    <tr style=\"text-align: right;\">\n",
       "      <th></th>\n",
       "      <th>item</th>\n",
       "      <th>frequencia</th>\n",
       "      <th>recencia</th>\n",
       "      <th>frequencia_log</th>\n",
       "      <th>recencia_log</th>\n",
       "      <th>item_enc</th>\n",
       "      <th>cluster</th>\n",
       "    </tr>\n",
       "  </thead>\n",
       "  <tbody>\n",
       "    <tr>\n",
       "      <th>6682</th>\n",
       "      <td>HOME_&amp;_GARDEN_1_020</td>\n",
       "      <td>10</td>\n",
       "      <td>7</td>\n",
       "      <td>2.397895</td>\n",
       "      <td>2.079442</td>\n",
       "      <td>584</td>\n",
       "      <td>4</td>\n",
       "    </tr>\n",
       "    <tr>\n",
       "      <th>6992</th>\n",
       "      <td>HOME_&amp;_GARDEN_1_336</td>\n",
       "      <td>18</td>\n",
       "      <td>75</td>\n",
       "      <td>2.944439</td>\n",
       "      <td>4.330733</td>\n",
       "      <td>894</td>\n",
       "      <td>2</td>\n",
       "    </tr>\n",
       "    <tr>\n",
       "      <th>6733</th>\n",
       "      <td>HOME_&amp;_GARDEN_1_073</td>\n",
       "      <td>19</td>\n",
       "      <td>7</td>\n",
       "      <td>2.995732</td>\n",
       "      <td>2.079442</td>\n",
       "      <td>635</td>\n",
       "      <td>4</td>\n",
       "    </tr>\n",
       "    <tr>\n",
       "      <th>6149</th>\n",
       "      <td>ACCESORIES_1_052</td>\n",
       "      <td>32</td>\n",
       "      <td>38</td>\n",
       "      <td>3.496508</td>\n",
       "      <td>3.663562</td>\n",
       "      <td>51</td>\n",
       "      <td>2</td>\n",
       "    </tr>\n",
       "    <tr>\n",
       "      <th>7590</th>\n",
       "      <td>HOME_&amp;_GARDEN_2_397</td>\n",
       "      <td>34</td>\n",
       "      <td>5</td>\n",
       "      <td>3.555348</td>\n",
       "      <td>1.791759</td>\n",
       "      <td>1492</td>\n",
       "      <td>4</td>\n",
       "    </tr>\n",
       "    <tr>\n",
       "      <th>7165</th>\n",
       "      <td>HOME_&amp;_GARDEN_1_512</td>\n",
       "      <td>34</td>\n",
       "      <td>2</td>\n",
       "      <td>3.555348</td>\n",
       "      <td>1.098612</td>\n",
       "      <td>1067</td>\n",
       "      <td>1</td>\n",
       "    </tr>\n",
       "    <tr>\n",
       "      <th>7787</th>\n",
       "      <td>SUPERMARKET_1_079</td>\n",
       "      <td>40</td>\n",
       "      <td>19</td>\n",
       "      <td>3.713572</td>\n",
       "      <td>2.995732</td>\n",
       "      <td>1689</td>\n",
       "      <td>4</td>\n",
       "    </tr>\n",
       "    <tr>\n",
       "      <th>6624</th>\n",
       "      <td>ACCESORIES_2_111</td>\n",
       "      <td>43</td>\n",
       "      <td>95</td>\n",
       "      <td>3.784190</td>\n",
       "      <td>4.564348</td>\n",
       "      <td>526</td>\n",
       "      <td>2</td>\n",
       "    </tr>\n",
       "    <tr>\n",
       "      <th>6540</th>\n",
       "      <td>ACCESORIES_2_027</td>\n",
       "      <td>43</td>\n",
       "      <td>1</td>\n",
       "      <td>3.784190</td>\n",
       "      <td>0.693147</td>\n",
       "      <td>442</td>\n",
       "      <td>1</td>\n",
       "    </tr>\n",
       "    <tr>\n",
       "      <th>6934</th>\n",
       "      <td>HOME_&amp;_GARDEN_1_278</td>\n",
       "      <td>47</td>\n",
       "      <td>1</td>\n",
       "      <td>3.871201</td>\n",
       "      <td>0.693147</td>\n",
       "      <td>836</td>\n",
       "      <td>1</td>\n",
       "    </tr>\n",
       "  </tbody>\n",
       "</table>\n",
       "</div>"
      ],
      "text/plain": [
       "                     item  frequencia  recencia  frequencia_log  recencia_log  \\\n",
       "6682  HOME_&_GARDEN_1_020          10         7        2.397895      2.079442   \n",
       "6992  HOME_&_GARDEN_1_336          18        75        2.944439      4.330733   \n",
       "6733  HOME_&_GARDEN_1_073          19         7        2.995732      2.079442   \n",
       "6149     ACCESORIES_1_052          32        38        3.496508      3.663562   \n",
       "7590  HOME_&_GARDEN_2_397          34         5        3.555348      1.791759   \n",
       "7165  HOME_&_GARDEN_1_512          34         2        3.555348      1.098612   \n",
       "7787    SUPERMARKET_1_079          40        19        3.713572      2.995732   \n",
       "6624     ACCESORIES_2_111          43        95        3.784190      4.564348   \n",
       "6540     ACCESORIES_2_027          43         1        3.784190      0.693147   \n",
       "6934  HOME_&_GARDEN_1_278          47         1        3.871201      0.693147   \n",
       "\n",
       "      item_enc  cluster  \n",
       "6682       584        4  \n",
       "6992       894        2  \n",
       "6733       635        4  \n",
       "6149        51        2  \n",
       "7590      1492        4  \n",
       "7165      1067        1  \n",
       "7787      1689        4  \n",
       "6624       526        2  \n",
       "6540       442        1  \n",
       "6934       836        1  "
      ]
     },
     "execution_count": 111,
     "metadata": {},
     "output_type": "execute_result"
    }
   ],
   "source": [
    "data.sort_values(by='frequencia',ascending=True).head(10) #Botton 10 frequências"
   ]
  },
  {
   "cell_type": "code",
   "execution_count": 112,
   "metadata": {},
   "outputs": [
    {
     "name": "stdout",
     "output_type": "stream",
     "text": [
      "                   item  cluster\n",
      "8412  SUPERMARKET_3_090        3\n",
      "                   item  cluster\n",
      "8908  SUPERMARKET_3_586        3\n",
      "                   item  cluster\n",
      "8442  SUPERMARKET_3_120        3\n",
      "                   item  cluster\n",
      "8574  SUPERMARKET_3_252        3\n",
      "                   item  cluster\n",
      "8863  SUPERMARKET_3_541        3\n",
      "                   item  cluster\n",
      "8957  SUPERMARKET_3_635        3\n",
      "                   item  cluster\n",
      "9127  SUPERMARKET_3_808        3\n",
      "                   item  cluster\n",
      "8909  SUPERMARKET_3_587        3\n",
      "                   item  cluster\n",
      "8877  SUPERMARKET_3_555        3\n",
      "                   item  cluster\n",
      "9003  SUPERMARKET_3_681        3\n",
      "                     item  cluster\n",
      "6682  HOME_&_GARDEN_1_020        4\n",
      "                     item  cluster\n",
      "6992  HOME_&_GARDEN_1_336        2\n",
      "                     item  cluster\n",
      "6733  HOME_&_GARDEN_1_073        4\n",
      "                  item  cluster\n",
      "6149  ACCESORIES_1_052        2\n",
      "                     item  cluster\n",
      "7590  HOME_&_GARDEN_2_397        4\n",
      "                     item  cluster\n",
      "7165  HOME_&_GARDEN_1_512        1\n",
      "                   item  cluster\n",
      "7787  SUPERMARKET_1_079        4\n",
      "                  item  cluster\n",
      "6624  ACCESORIES_2_111        2\n",
      "                  item  cluster\n",
      "6540  ACCESORIES_2_027        1\n",
      "                     item  cluster\n",
      "6934  HOME_&_GARDEN_1_278        1\n"
     ]
    }
   ],
   "source": [
    "top_ten_tribeca = ['SUPERMARKET_3_090','SUPERMARKET_3_586','SUPERMARKET_3_120','SUPERMARKET_3_252','SUPERMARKET_3_541','SUPERMARKET_3_635','SUPERMARKET_3_808','SUPERMARKET_3_587','SUPERMARKET_3_555','SUPERMARKET_3_681']\n",
    "botton_ten_tribeca = ['HOME_&_GARDEN_1_020','HOME_&_GARDEN_1_336','HOME_&_GARDEN_1_073','ACCESORIES_1_052','HOME_&_GARDEN_2_397','HOME_&_GARDEN_1_512','SUPERMARKET_1_079','ACCESORIES_2_111','ACCESORIES_2_027','HOME_&_GARDEN_1_278']\n",
    " \n",
    "for iten in top_ten_tribeca:\n",
    "    linha = data_tribeca[['item', 'cluster']][data_tribeca.item == iten]\n",
    "    print(linha)\n",
    "\n",
    "for iten in botton_ten_tribeca:\n",
    "    linha = data_tribeca[['item', 'cluster']][data_tribeca.item == iten]\n",
    "    print(linha)"
   ]
  },
  {
   "cell_type": "markdown",
   "metadata": {},
   "source": [
    "__Cluster 0 - : Demais Itens:__\n",
    "Cluster com frequência média e baixa recência: esses são produtos comuns, devendo ser a maioria dos produtos.\n",
    "\n",
    "__Cluster 1 - Itens Ganhando ou perdendo porpularidade:__\n",
    "Cluster com recência média e uma ampla variação na frequência: eles podem ser produtos emergentes (parte inferior esquerda do cluster) ou produtos em declínio (parte superior direita do cluster).\n",
    "\n",
    "__Cluster 2 - Itens de baixa popularidade:__\n",
    "Cluster com alta recência e uma ampla variação na frequência: eles podem ser produtos ruins que nunca venderam (parte inferior do cluster) ou produtos antigos (parte esquerda do cluster) que costumavam vender, mas agora não vendem mais.\n",
    "\n",
    "__Cluster 3 - Itens Mais Populares:__\n",
    "Cluster com alta frequência e baixa recência: esses são os produtos mais quentes/melhor vendidos.\n",
    "\n",
    "__Cluster 4 - Itens Novos:__\n",
    "Cluster com baixa frequência e baixa recência: são produtos novos/que estão aparecendo."
   ]
  },
  {
   "cell_type": "markdown",
   "metadata": {},
   "source": [
    "### Análise da Loja Brooklyn"
   ]
  },
  {
   "cell_type": "code",
   "execution_count": 233,
   "metadata": {},
   "outputs": [],
   "source": [
    "store_name = 'Brooklyn'\n",
    "select_store(store_name)"
   ]
  },
  {
   "cell_type": "code",
   "execution_count": 234,
   "metadata": {},
   "outputs": [
    {
     "name": "stdout",
     "output_type": "stream",
     "text": [
      "                  item  frequencia  recencia\n",
      "9147  ACCESORIES_1_001         635         1\n",
      "9148  ACCESORIES_1_002         323         1\n",
      "9149  ACCESORIES_1_003         161         3\n",
      "9150  ACCESORIES_1_004        1588         2\n",
      "9151  ACCESORIES_1_005         930         1\n"
     ]
    }
   ],
   "source": [
    "feature_creation(data)"
   ]
  },
  {
   "cell_type": "code",
   "execution_count": 235,
   "metadata": {},
   "outputs": [],
   "source": [
    "log_tranform_feat(data)"
   ]
  },
  {
   "cell_type": "code",
   "execution_count": 236,
   "metadata": {},
   "outputs": [],
   "source": [
    "df_normalized = scaler.fit_transform(data[['frequencia_log','recencia_log']])"
   ]
  },
  {
   "cell_type": "code",
   "execution_count": 237,
   "metadata": {},
   "outputs": [
    {
     "data": {
      "text/plain": [
       "array([[0.43966859, 0.        ],\n",
       "       [0.35395112, 0.        ],\n",
       "       [0.26585804, 0.11556893],\n",
       "       ...,\n",
       "       [0.52266509, 0.06760349],\n",
       "       [0.57468067, 0.        ],\n",
       "       [0.19668196, 0.        ]])"
      ]
     },
     "execution_count": 237,
     "metadata": {},
     "output_type": "execute_result"
    }
   ],
   "source": [
    "df_normalized"
   ]
  },
  {
   "cell_type": "code",
   "execution_count": 238,
   "metadata": {},
   "outputs": [],
   "source": [
    "data_brooklyn = enc_categoricas(data) "
   ]
  },
  {
   "cell_type": "code",
   "execution_count": 239,
   "metadata": {},
   "outputs": [],
   "source": [
    "data_brooklyn_model = data_brooklyn .drop(['item'], axis=1)"
   ]
  },
  {
   "cell_type": "code",
   "execution_count": 240,
   "metadata": {},
   "outputs": [
    {
     "data": {
      "image/png": "[encoded data removed]",
      "text/plain": [
       "<Figure size 640x480 with 1 Axes>"
      ]
     },
     "metadata": {},
     "output_type": "display_data"
    }
   ],
   "source": [
    "ebow(data_brooklyn_model)"
   ]
  },
  {
   "cell_type": "code",
   "execution_count": 241,
   "metadata": {},
   "outputs": [],
   "source": [
    "Model = model(df_normalized)"
   ]
  },
  {
   "cell_type": "code",
   "execution_count": 242,
   "metadata": {},
   "outputs": [],
   "source": [
    "data_brooklyn['cluster'] = Model.labels_"
   ]
  },
  {
   "cell_type": "code",
   "execution_count": 243,
   "metadata": {},
   "outputs": [
    {
     "data": {
      "text/plain": [
       "cluster\n",
       "4    1141\n",
       "2     613\n",
       "1     560\n",
       "0     554\n",
       "3     181\n",
       "Name: count, dtype: int64"
      ]
     },
     "execution_count": 243,
     "metadata": {},
     "output_type": "execute_result"
    }
   ],
   "source": [
    "data_brooklyn['cluster'].value_counts()"
   ]
  },
  {
   "cell_type": "code",
   "execution_count": 244,
   "metadata": {},
   "outputs": [
    {
     "data": {
      "text/html": [
       "<div>\n",
       "<style scoped>\n",
       "    .dataframe tbody tr th:only-of-type {\n",
       "        vertical-align: middle;\n",
       "    }\n",
       "\n",
       "    .dataframe tbody tr th {\n",
       "        vertical-align: top;\n",
       "    }\n",
       "\n",
       "    .dataframe thead th {\n",
       "        text-align: right;\n",
       "    }\n",
       "</style>\n",
       "<table border=\"1\" class=\"dataframe\">\n",
       "  <thead>\n",
       "    <tr style=\"text-align: right;\">\n",
       "      <th></th>\n",
       "      <th>item</th>\n",
       "      <th>frequencia</th>\n",
       "      <th>recencia</th>\n",
       "      <th>frequencia_log</th>\n",
       "      <th>recencia_log</th>\n",
       "      <th>item_enc</th>\n",
       "      <th>cluster</th>\n",
       "    </tr>\n",
       "  </thead>\n",
       "  <tbody>\n",
       "    <tr>\n",
       "      <th>11461</th>\n",
       "      <td>SUPERMARKET_3_090</td>\n",
       "      <td>52264</td>\n",
       "      <td>1</td>\n",
       "      <td>10.864082</td>\n",
       "      <td>0.693147</td>\n",
       "      <td>2314</td>\n",
       "      <td>0</td>\n",
       "    </tr>\n",
       "    <tr>\n",
       "      <th>11957</th>\n",
       "      <td>SUPERMARKET_3_586</td>\n",
       "      <td>32557</td>\n",
       "      <td>1</td>\n",
       "      <td>10.390778</td>\n",
       "      <td>0.693147</td>\n",
       "      <td>2810</td>\n",
       "      <td>0</td>\n",
       "    </tr>\n",
       "    <tr>\n",
       "      <th>11958</th>\n",
       "      <td>SUPERMARKET_3_587</td>\n",
       "      <td>24333</td>\n",
       "      <td>1</td>\n",
       "      <td>10.099630</td>\n",
       "      <td>0.693147</td>\n",
       "      <td>2811</td>\n",
       "      <td>0</td>\n",
       "    </tr>\n",
       "    <tr>\n",
       "      <th>11623</th>\n",
       "      <td>SUPERMARKET_3_252</td>\n",
       "      <td>23417</td>\n",
       "      <td>1</td>\n",
       "      <td>10.061260</td>\n",
       "      <td>0.693147</td>\n",
       "      <td>2476</td>\n",
       "      <td>0</td>\n",
       "    </tr>\n",
       "    <tr>\n",
       "      <th>12176</th>\n",
       "      <td>SUPERMARKET_3_808</td>\n",
       "      <td>21282</td>\n",
       "      <td>26</td>\n",
       "      <td>9.965664</td>\n",
       "      <td>3.295837</td>\n",
       "      <td>3029</td>\n",
       "      <td>0</td>\n",
       "    </tr>\n",
       "    <tr>\n",
       "      <th>12006</th>\n",
       "      <td>SUPERMARKET_3_635</td>\n",
       "      <td>20895</td>\n",
       "      <td>26</td>\n",
       "      <td>9.947313</td>\n",
       "      <td>3.295837</td>\n",
       "      <td>2859</td>\n",
       "      <td>0</td>\n",
       "    </tr>\n",
       "    <tr>\n",
       "      <th>12084</th>\n",
       "      <td>SUPERMARKET_3_714</td>\n",
       "      <td>19265</td>\n",
       "      <td>1</td>\n",
       "      <td>9.866097</td>\n",
       "      <td>0.693147</td>\n",
       "      <td>2937</td>\n",
       "      <td>0</td>\n",
       "    </tr>\n",
       "    <tr>\n",
       "      <th>11573</th>\n",
       "      <td>SUPERMARKET_3_202</td>\n",
       "      <td>18558</td>\n",
       "      <td>1</td>\n",
       "      <td>9.828710</td>\n",
       "      <td>0.693147</td>\n",
       "      <td>2426</td>\n",
       "      <td>0</td>\n",
       "    </tr>\n",
       "    <tr>\n",
       "      <th>11862</th>\n",
       "      <td>SUPERMARKET_3_491</td>\n",
       "      <td>18533</td>\n",
       "      <td>1</td>\n",
       "      <td>9.827362</td>\n",
       "      <td>0.693147</td>\n",
       "      <td>2715</td>\n",
       "      <td>0</td>\n",
       "    </tr>\n",
       "    <tr>\n",
       "      <th>11912</th>\n",
       "      <td>SUPERMARKET_3_541</td>\n",
       "      <td>17811</td>\n",
       "      <td>29</td>\n",
       "      <td>9.787628</td>\n",
       "      <td>3.401197</td>\n",
       "      <td>2765</td>\n",
       "      <td>0</td>\n",
       "    </tr>\n",
       "  </tbody>\n",
       "</table>\n",
       "</div>"
      ],
      "text/plain": [
       "                    item  frequencia  recencia  frequencia_log  recencia_log  \\\n",
       "11461  SUPERMARKET_3_090       52264         1       10.864082      0.693147   \n",
       "11957  SUPERMARKET_3_586       32557         1       10.390778      0.693147   \n",
       "11958  SUPERMARKET_3_587       24333         1       10.099630      0.693147   \n",
       "11623  SUPERMARKET_3_252       23417         1       10.061260      0.693147   \n",
       "12176  SUPERMARKET_3_808       21282        26        9.965664      3.295837   \n",
       "12006  SUPERMARKET_3_635       20895        26        9.947313      3.295837   \n",
       "12084  SUPERMARKET_3_714       19265         1        9.866097      0.693147   \n",
       "11573  SUPERMARKET_3_202       18558         1        9.828710      0.693147   \n",
       "11862  SUPERMARKET_3_491       18533         1        9.827362      0.693147   \n",
       "11912  SUPERMARKET_3_541       17811        29        9.787628      3.401197   \n",
       "\n",
       "       item_enc  cluster  \n",
       "11461      2314        0  \n",
       "11957      2810        0  \n",
       "11958      2811        0  \n",
       "11623      2476        0  \n",
       "12176      3029        0  \n",
       "12006      2859        0  \n",
       "12084      2937        0  \n",
       "11573      2426        0  \n",
       "11862      2715        0  \n",
       "11912      2765        0  "
      ]
     },
     "execution_count": 244,
     "metadata": {},
     "output_type": "execute_result"
    }
   ],
   "source": [
    "data.sort_values(by='frequencia',ascending=False).head(10)"
   ]
  },
  {
   "cell_type": "code",
   "execution_count": 245,
   "metadata": {},
   "outputs": [
    {
     "data": {
      "text/html": [
       "<div>\n",
       "<style scoped>\n",
       "    .dataframe tbody tr th:only-of-type {\n",
       "        vertical-align: middle;\n",
       "    }\n",
       "\n",
       "    .dataframe tbody tr th {\n",
       "        vertical-align: top;\n",
       "    }\n",
       "\n",
       "    .dataframe thead th {\n",
       "        text-align: right;\n",
       "    }\n",
       "</style>\n",
       "<table border=\"1\" class=\"dataframe\">\n",
       "  <thead>\n",
       "    <tr style=\"text-align: right;\">\n",
       "      <th></th>\n",
       "      <th>item</th>\n",
       "      <th>frequencia</th>\n",
       "      <th>recencia</th>\n",
       "      <th>frequencia_log</th>\n",
       "      <th>recencia_log</th>\n",
       "      <th>item_enc</th>\n",
       "      <th>cluster</th>\n",
       "    </tr>\n",
       "  </thead>\n",
       "  <tbody>\n",
       "    <tr>\n",
       "      <th>10458</th>\n",
       "      <td>HOME_&amp;_GARDEN_2_216</td>\n",
       "      <td>19</td>\n",
       "      <td>2</td>\n",
       "      <td>2.995732</td>\n",
       "      <td>1.098612</td>\n",
       "      <td>1311</td>\n",
       "      <td>2</td>\n",
       "    </tr>\n",
       "    <tr>\n",
       "      <th>10214</th>\n",
       "      <td>HOME_&amp;_GARDEN_1_512</td>\n",
       "      <td>20</td>\n",
       "      <td>21</td>\n",
       "      <td>3.044522</td>\n",
       "      <td>3.091042</td>\n",
       "      <td>1067</td>\n",
       "      <td>1</td>\n",
       "    </tr>\n",
       "    <tr>\n",
       "      <th>10549</th>\n",
       "      <td>HOME_&amp;_GARDEN_2_307</td>\n",
       "      <td>21</td>\n",
       "      <td>7</td>\n",
       "      <td>3.091042</td>\n",
       "      <td>2.079442</td>\n",
       "      <td>1402</td>\n",
       "      <td>1</td>\n",
       "    </tr>\n",
       "    <tr>\n",
       "      <th>10102</th>\n",
       "      <td>HOME_&amp;_GARDEN_1_400</td>\n",
       "      <td>22</td>\n",
       "      <td>1</td>\n",
       "      <td>3.135494</td>\n",
       "      <td>0.693147</td>\n",
       "      <td>955</td>\n",
       "      <td>2</td>\n",
       "    </tr>\n",
       "    <tr>\n",
       "      <th>9890</th>\n",
       "      <td>HOME_&amp;_GARDEN_1_183</td>\n",
       "      <td>22</td>\n",
       "      <td>6</td>\n",
       "      <td>3.135494</td>\n",
       "      <td>1.945910</td>\n",
       "      <td>743</td>\n",
       "      <td>1</td>\n",
       "    </tr>\n",
       "    <tr>\n",
       "      <th>9208</th>\n",
       "      <td>ACCESORIES_1_063</td>\n",
       "      <td>24</td>\n",
       "      <td>1</td>\n",
       "      <td>3.218876</td>\n",
       "      <td>0.693147</td>\n",
       "      <td>61</td>\n",
       "      <td>2</td>\n",
       "    </tr>\n",
       "    <tr>\n",
       "      <th>9152</th>\n",
       "      <td>ACCESORIES_1_006</td>\n",
       "      <td>25</td>\n",
       "      <td>1</td>\n",
       "      <td>3.258097</td>\n",
       "      <td>0.693147</td>\n",
       "      <td>5</td>\n",
       "      <td>2</td>\n",
       "    </tr>\n",
       "    <tr>\n",
       "      <th>9587</th>\n",
       "      <td>ACCESORIES_2_025</td>\n",
       "      <td>28</td>\n",
       "      <td>21</td>\n",
       "      <td>3.367296</td>\n",
       "      <td>3.091042</td>\n",
       "      <td>440</td>\n",
       "      <td>1</td>\n",
       "    </tr>\n",
       "    <tr>\n",
       "      <th>9646</th>\n",
       "      <td>ACCESORIES_2_084</td>\n",
       "      <td>28</td>\n",
       "      <td>64</td>\n",
       "      <td>3.367296</td>\n",
       "      <td>4.174387</td>\n",
       "      <td>499</td>\n",
       "      <td>3</td>\n",
       "    </tr>\n",
       "    <tr>\n",
       "      <th>9369</th>\n",
       "      <td>ACCESORIES_1_230</td>\n",
       "      <td>28</td>\n",
       "      <td>2</td>\n",
       "      <td>3.367296</td>\n",
       "      <td>1.098612</td>\n",
       "      <td>222</td>\n",
       "      <td>2</td>\n",
       "    </tr>\n",
       "  </tbody>\n",
       "</table>\n",
       "</div>"
      ],
      "text/plain": [
       "                      item  frequencia  recencia  frequencia_log  \\\n",
       "10458  HOME_&_GARDEN_2_216          19         2        2.995732   \n",
       "10214  HOME_&_GARDEN_1_512          20        21        3.044522   \n",
       "10549  HOME_&_GARDEN_2_307          21         7        3.091042   \n",
       "10102  HOME_&_GARDEN_1_400          22         1        3.135494   \n",
       "9890   HOME_&_GARDEN_1_183          22         6        3.135494   \n",
       "9208      ACCESORIES_1_063          24         1        3.218876   \n",
       "9152      ACCESORIES_1_006          25         1        3.258097   \n",
       "9587      ACCESORIES_2_025          28        21        3.367296   \n",
       "9646      ACCESORIES_2_084          28        64        3.367296   \n",
       "9369      ACCESORIES_1_230          28         2        3.367296   \n",
       "\n",
       "       recencia_log  item_enc  cluster  \n",
       "10458      1.098612      1311        2  \n",
       "10214      3.091042      1067        1  \n",
       "10549      2.079442      1402        1  \n",
       "10102      0.693147       955        2  \n",
       "9890       1.945910       743        1  \n",
       "9208       0.693147        61        2  \n",
       "9152       0.693147         5        2  \n",
       "9587       3.091042       440        1  \n",
       "9646       4.174387       499        3  \n",
       "9369       1.098612       222        2  "
      ]
     },
     "execution_count": 245,
     "metadata": {},
     "output_type": "execute_result"
    }
   ],
   "source": [
    "data.sort_values(by='frequencia',ascending=True).head(10)"
   ]
  },
  {
   "cell_type": "code",
   "execution_count": 246,
   "metadata": {},
   "outputs": [
    {
     "data": {
      "text/plain": [
       "<Axes: xlabel='cluster', ylabel='count'>"
      ]
     },
     "execution_count": 246,
     "metadata": {},
     "output_type": "execute_result"
    },
    {
     "data": {
      "image/png": "[encoded data removed]",
      "text/plain": [
       "<Figure size 640x480 with 1 Axes>"
      ]
     },
     "metadata": {},
     "output_type": "display_data"
    }
   ],
   "source": [
    "order = data_brooklyn['cluster'].value_counts().index\n",
    "sns.countplot(x=data_brooklyn['cluster'],order=order)"
   ]
  },
  {
   "cell_type": "markdown",
   "metadata": {},
   "source": [
    "__Cluster 0 - : Demais Itens:__\n",
    "Cluster com frequência média e baixa recência: esses são produtos comuns, devendo ser a maioria dos produtos.\n",
    "\n",
    "__Cluster 1 - Itens Ganhando ou perdendo porpularidade:__\n",
    "Cluster com recência média e uma ampla variação na frequência: eles podem ser produtos emergentes (parte inferior esquerda do cluster) ou produtos em declínio (parte superior direita do cluster).\n",
    "\n",
    "__Cluster 2 - Itens de baixa popularidade:__\n",
    "Cluster com alta recência e uma ampla variação na frequência: eles podem ser produtos ruins que nunca venderam (parte inferior do cluster) ou produtos antigos (parte esquerda do cluster) que costumavam vender, mas agora não vendem mais.\n",
    "\n",
    "__Cluster 3 - Itens Mais Populares:__\n",
    "Cluster com alta frequência e baixa recência: esses são os produtos mais quentes/melhor vendidos.\n",
    "\n",
    "__Cluster 4 - Itens Novos:__\n",
    "Cluster com baixa frequência e baixa recência: são produtos novos/que estão aparecendo."
   ]
  }
 ],
 "metadata": {
  "kernelspec": {
   "display_name": "Python 3",
   "language": "python",
   "name": "python3"
  },
  "language_info": {
   "codemirror_mode": {
    "name": "ipython",
    "version": 3
   },
   "file_extension": ".py",
   "mimetype": "text/x-python",
   "name": "python",
   "nbconvert_exporter": "python",
   "pygments_lexer": "ipython3",
   "version": "3.11.5"
  }
 },
 "nbformat": 4,
 "nbformat_minor": 2
}
